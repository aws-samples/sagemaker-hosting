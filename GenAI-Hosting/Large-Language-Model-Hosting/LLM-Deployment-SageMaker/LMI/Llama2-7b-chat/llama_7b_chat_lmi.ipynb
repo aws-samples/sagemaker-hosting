{
 "cells": [
  {
   "cell_type": "markdown",
   "id": "71a329f0",
   "metadata": {},
   "source": [
    "# LLAMA 7B Chat inference using SageMaker LMI \n",
    "In this tutorial, you will use LMI container from DLC to SageMaker and run inference with it.\n",
    "\n",
    "Please make sure the following permission granted before running the notebook:\n",
    "\n",
    "- S3 bucket push access\n",
    "- SageMaker access\n",
    "\n",
    "## Step 1: Let's bump up SageMaker and import stuff"
   ]
  },
  {
   "cell_type": "code",
   "execution_count": 31,
   "id": "67fa3208",
   "metadata": {
    "tags": []
   },
   "outputs": [
    {
     "name": "stdout",
     "output_type": "stream",
     "text": [
      "Note: you may need to restart the kernel to use updated packages.\n"
     ]
    }
   ],
   "source": [
    "%pip install sagemaker --upgrade  --quiet"
   ]
  },
  {
   "cell_type": "code",
   "execution_count": 1,
   "id": "ec9ac353",
   "metadata": {
    "tags": []
   },
   "outputs": [
    {
     "name": "stderr",
     "output_type": "stream",
     "text": [
      "/home/ec2-user/anaconda3/envs/python3/lib/python3.10/site-packages/pandas/core/computation/expressions.py:21: UserWarning: Pandas requires version '2.8.0' or newer of 'numexpr' (version '2.7.3' currently installed).\n",
      "  from pandas.core.computation.check import NUMEXPR_INSTALLED\n"
     ]
    },
    {
     "name": "stdout",
     "output_type": "stream",
     "text": [
      "sagemaker.config INFO - Not applying SDK defaults from location: /etc/xdg/sagemaker/config.yaml\n",
      "sagemaker.config INFO - Not applying SDK defaults from location: /home/ec2-user/.config/sagemaker/config.yaml\n"
     ]
    }
   ],
   "source": [
    "import boto3\n",
    "import sagemaker\n",
    "from sagemaker import Model, image_uris, serializers, deserializers\n",
    "\n",
    "role = sagemaker.get_execution_role()  # execution role for the endpoint\n",
    "sess = sagemaker.session.Session()  # sagemaker session for interacting with different AWS APIs\n",
    "region = sess._region_name  # region name of the current SageMaker Studio environment\n",
    "account_id = sess.account_id()  # account_id of the current SageMaker Studio environment"
   ]
  },
  {
   "cell_type": "markdown",
   "id": "81deac79",
   "metadata": {},
   "source": [
    "## Step 2: Start preparing model artifacts\n",
    "In LMI contianer, we expect some artifacts to help setting up the model\n",
    "- serving.properties (required): Defines the model server settings\n",
    "- model.py (optional): A python file to define the core inference logic\n",
    "- requirements.txt (optional): Any additional pip wheel need to install"
   ]
  },
  {
   "cell_type": "code",
   "execution_count": 3,
   "id": "b011bf5f",
   "metadata": {
    "tags": []
   },
   "outputs": [
    {
     "name": "stdout",
     "output_type": "stream",
     "text": [
      "Writing serving.properties\n"
     ]
    }
   ],
   "source": [
    "%%writefile serving.properties\n",
    "engine=MPI\n",
    "option.model_id=TheBloke/Llama-2-7B-Chat-fp16\n",
    "option.task=text-generation\n",
    "option.trust_remote_code=true\n",
    "option.tensor_parallel_degree=1\n",
    "option.max_rolling_batch_size=32\n",
    "option.rolling_batch=lmi-dist\n",
    "option.dtype=fp16"
   ]
  },
  {
   "cell_type": "markdown",
   "id": "1a0ab053",
   "metadata": {},
   "source": [
    "In this step, we will try to override the [default HuggingFace handler](https://github.com/deepjavalibrary/djl-serving/blob/0.25.0-dlc/engines/python/setup/djl_python/huggingface.py) provided by DJLServing. We will add an extra parameter checker called `password` to see if password is correct in the payload."
   ]
  },
  {
   "cell_type": "code",
   "execution_count": 4,
   "id": "19d6798b",
   "metadata": {
    "tags": []
   },
   "outputs": [
    {
     "name": "stdout",
     "output_type": "stream",
     "text": [
      "Writing model.py\n"
     ]
    }
   ],
   "source": [
    "%%writefile model.py\n",
    "from djl_python.huggingface import HuggingFaceService\n",
    "from djl_python import Output\n",
    "from djl_python.encode_decode import encode, decode\n",
    "from transformers import AutoTokenizer\n",
    "import logging\n",
    "import json\n",
    "import types\n",
    "\n",
    "_service = HuggingFaceService()\n",
    "\n",
    "def custom_parse_input(self, inputs):\n",
    "    input_data = []\n",
    "    input_size = []\n",
    "    parameters = []\n",
    "    errors = {}\n",
    "    # used for chat completion\n",
    "    if self.tokenizer is None:\n",
    "        self.tokenizer = AutoTokenizer.from_pretrained(self.hf_configs.model_id_or_path)\n",
    "    batch = inputs.get_batches()\n",
    "    for i, item in enumerate(batch):\n",
    "        try:\n",
    "            content_type = item.get_property(\"Content-Type\")\n",
    "            input_map = decode(item, content_type)\n",
    "        except Exception as e:  # pylint: disable=broad-except\n",
    "            logging.warning(f\"Parse input failed: {i}\")\n",
    "            input_size.append(0)\n",
    "            errors[i] = str(e)\n",
    "            continue\n",
    "        # Chat message masssaging\n",
    "        chat = input_map.pop(\"chat\", [])\n",
    "        if len(chat) != 0:\n",
    "            formatted_str = self.tokenizer.apply_chat_template(chat, tokenize=False)\n",
    "            input_data.extend([formatted_str])\n",
    "        else:\n",
    "            input_data.extend([\"\"])\n",
    "        input_size.append(1)\n",
    "        # End of massaging\n",
    "        _param = input_map.pop(\"parameters\", {})\n",
    "        if not \"seed\" in _param:\n",
    "            # set server provided seed if seed is not part of request\n",
    "            if item.contains_key(\"seed\"):\n",
    "                _param[\"seed\"] = item.get_as_string(key=\"seed\")\n",
    "        for _ in range(input_size[i]):\n",
    "            parameters.append(_param)\n",
    "\n",
    "    return input_data, input_size, parameters, errors, batch\n",
    "\n",
    "\n",
    "def chat_output_formatter(token, first_token, last_token, details, generated_tokens):\n",
    "    \"\"\"\n",
    "    json output formatter\n",
    "\n",
    "    :return: formatted output\n",
    "    \"\"\"\n",
    "    json_encoded_str = f\"{{\\\"role\\\": \\\"assistant\\\", \\\"content\\\": \\\"\" if first_token else \"\"\n",
    "    json_encoded_str = f\"{json_encoded_str}{json.dumps(token.text, ensure_ascii=False)[1:-1]}\"\n",
    "    if last_token:\n",
    "        if details:\n",
    "            details_str = f\"\\\"details\\\": {json.dumps(details, ensure_ascii=False)}\"\n",
    "            json_encoded_str = f\"{json_encoded_str}\\\", {details_str}}}\"\n",
    "        else:\n",
    "            json_encoded_str = f\"{json_encoded_str}\\\"}}\"\n",
    "\n",
    "    return json_encoded_str\n",
    "\n",
    "\n",
    "def handle(inputs):\n",
    "    if not _service.initialized:\n",
    "        props = inputs.get_properties()\n",
    "        props[\"output_formatter\"] = chat_output_formatter\n",
    "        _service.initialize(inputs.get_properties())\n",
    "        # replace parse_input\n",
    "        _service.parse_input = types.MethodType(custom_parse_input, _service)\n",
    "\n",
    "    if inputs.is_empty():\n",
    "        # initialization request\n",
    "        return None\n",
    "\n",
    "    return _service.inference(inputs)"
   ]
  },
  {
   "cell_type": "code",
   "execution_count": 5,
   "id": "b0142973",
   "metadata": {
    "tags": []
   },
   "outputs": [
    {
     "name": "stdout",
     "output_type": "stream",
     "text": [
      "mymodel/\n",
      "mymodel/serving.properties\n",
      "mymodel/model.py\n"
     ]
    }
   ],
   "source": [
    "%%sh\n",
    "mkdir mymodel\n",
    "mv serving.properties mymodel/\n",
    "mv model.py mymodel/\n",
    "tar czvf mymodel.tar.gz mymodel/\n",
    "rm -rf mymodel"
   ]
  },
  {
   "cell_type": "markdown",
   "id": "2e58cf33",
   "metadata": {},
   "source": [
    "## Step 3: Start building SageMaker endpoint\n",
    "In this step, we will build SageMaker endpoint from scratch"
   ]
  },
  {
   "cell_type": "markdown",
   "id": "4d955679",
   "metadata": {},
   "source": [
    "### Getting the container image URI\n",
    "\n",
    "[Large Model Inference available DLC](https://github.com/aws/deep-learning-containers/blob/master/available_images.md#large-model-inference-containers)\n"
   ]
  },
  {
   "cell_type": "code",
   "execution_count": 2,
   "id": "7a174b36",
   "metadata": {},
   "outputs": [],
   "source": [
    "image_uri = image_uris.retrieve(\n",
    "        framework=\"djl-deepspeed\",\n",
    "        region=sess.boto_session.region_name,\n",
    "        version=\"0.26.0\"\n",
    "    )"
   ]
  },
  {
   "cell_type": "markdown",
   "id": "11601839",
   "metadata": {},
   "source": [
    "### Upload artifact on S3 and create SageMaker model"
   ]
  },
  {
   "cell_type": "code",
   "execution_count": 8,
   "id": "38b1e5ca",
   "metadata": {
    "tags": []
   },
   "outputs": [
    {
     "name": "stdout",
     "output_type": "stream",
     "text": [
      "S3 Code or Model tar ball uploaded to --- > s3://sagemaker-us-east-1-757967535041/large-model-lmi/code/mymodel.tar.gz\n"
     ]
    }
   ],
   "source": [
    "s3_code_prefix = \"large-model-lmi/code\"\n",
    "bucket = sess.default_bucket()  # bucket to house artifacts\n",
    "code_artifact = sess.upload_data(\"mymodel.tar.gz\", bucket, s3_code_prefix)\n",
    "print(f\"S3 Code or Model tar ball uploaded to --- > {code_artifact}\")\n",
    "\n",
    "model = Model(image_uri=image_uri, model_data=code_artifact, role=role)"
   ]
  },
  {
   "cell_type": "markdown",
   "id": "004f39f6",
   "metadata": {},
   "source": [
    "### 4.2 Create SageMaker endpoint\n",
    "\n",
    "You need to specify the instance to use and endpoint names"
   ]
  },
  {
   "cell_type": "code",
   "execution_count": 9,
   "id": "8e0e61cd",
   "metadata": {
    "tags": []
   },
   "outputs": [
    {
     "name": "stdout",
     "output_type": "stream",
     "text": [
      "--------------!"
     ]
    }
   ],
   "source": [
    "instance_type = \"ml.g5.12xlarge\"\n",
    "endpoint_name = sagemaker.utils.name_from_base(\"lmi-model\")\n",
    "\n",
    "model.deploy(initial_instance_count=1,\n",
    "             instance_type=instance_type,\n",
    "             endpoint_name=endpoint_name,\n",
    "             # container_startup_health_check_timeout=3600\n",
    "            )\n",
    "\n",
    "# our requests and responses will be in json format so we specify the serializer and the deserializer\n",
    "predictor = sagemaker.Predictor(\n",
    "    endpoint_name=endpoint_name,\n",
    "    sagemaker_session=sess,\n",
    "    serializer=serializers.JSONSerializer(),\n",
    "    deserializer=deserializers.JSONDeserializer()\n",
    ")"
   ]
  },
  {
   "cell_type": "markdown",
   "id": "bb63ee65",
   "metadata": {},
   "source": [
    "## Step 5: Test and benchmark the inference"
   ]
  },
  {
   "cell_type": "code",
   "execution_count": 27,
   "id": "6e69f9b5-d9c8-438a-9d7a-9ca37286465b",
   "metadata": {
    "tags": []
   },
   "outputs": [
    {
     "name": "stdout",
     "output_type": "stream",
     "text": [
      "CPU times: user 4 µs, sys: 0 ns, total: 4 µs\n",
      "Wall time: 7.39 µs\n"
     ]
    }
   ],
   "source": [
    "%time \n",
    "\n",
    "chat = [\n",
    "  {\"role\": \"user\", \"content\": \"Tell me a story about Albert Einstein \"},\n",
    "]\n",
    "\n",
    "# NOTE: If you do not want the log probability to be printed in your output, please set, \"do_sample\":False\n",
    "\n",
    "result = predictor.predict(\n",
    "    {\"chat\": chat, \"parameters\": {\"do_sample\": True, \"max_new_tokens\": 600}}\n",
    ")"
   ]
  },
  {
   "cell_type": "code",
   "execution_count": 28,
   "id": "d8313f0c-6cf7-47c6-af68-9b043ed0bbf5",
   "metadata": {
    "tags": []
   },
   "outputs": [
    {
     "name": "stdout",
     "output_type": "stream",
     "text": [
      "{'role': 'assistant', 'content': '  Once upon a time, in the early 20th century, there was a man named Albert Einstein. He was a brilliant physicist who lived in a small apartment in Berlin, Germany. Albert was known for his wild hair and even wilder ideas about the nature of the universe.\\nOne day, as he was working in his laboratory, Albert had an epiphany. He realized that the laws of physics, which had been established for centuries, were not absolute. They were simply a way of understanding the world, but they were not the only way.\\nExcited by his discovery, Albert spent the next few weeks working tirelessly on a groundbreaking new theory. He spent hours staring at equations, making notes, and pacing around his apartment.\\nAs the days passed, Albert became more and more obsessed with his work. He barely slept, barely ate, and barely spoke to anyone around him. His friends and family grew concerned, but Albert was too caught up in his ideas to notice.\\nFinally, after weeks of work, Albert had a complete theory. It was a bold and revolutionary idea that challenged the traditional understanding of space and time. He called it \"The Theory of Relativity.\"\\nWith great excitement, Albert presented his theory to the scientific community. At first, many of his colleagues were skeptical, but as they began to understand the implications of the theory, they realized the profound significance of Albert\\'s discovery.\\nThe Theory of Relativity quickly gained acceptance and soon became one of the most important scientific discoveries of the 20th century. Albert Einstein was hailed as one of the greatest minds of his generation, and his name became synonymous with genius.\\nBut despite his success, Albert never forgot the humility and curiosity that had driven him to make his groundbreaking discovery. He continued to work and explore new ideas, always pushing the boundaries of human understanding.\\nAnd so, the story of Albert Einstein serves as a reminder that the pursuit of knowledge and the love of learning are the keys to unlocking the secrets of the universe.', 'details': {'finish_reason': 'eos_token', 'tokens': [{'id': 29871, 'text': ' ', 'log_prob': -1.1920928955078125e-06}, {'id': 9038, 'text': ' Once', 'log_prob': -0.53564453125}, {'id': 2501, 'text': ' upon', 'log_prob': -0.00046372413635253906}, {'id': 263, 'text': ' a', 'log_prob': -2.384185791015625e-07}, {'id': 931, 'text': ' time', 'log_prob': -2.1457672119140625e-06}, {'id': 29892, 'text': ',', 'log_prob': -0.00021064281463623047}, {'id': 297, 'text': ' in', 'log_prob': -0.09539794921875}, {'id': 278, 'text': ' the', 'log_prob': -0.037933349609375}, {'id': 4688, 'text': ' early', 'log_prob': -0.06634521484375}, {'id': 29871, 'text': ' ', 'log_prob': -0.0002002716064453125}, {'id': 29906, 'text': '2', 'log_prob': -0.1903076171875}, {'id': 29900, 'text': '0', 'log_prob': -2.5033950805664062e-06}, {'id': 386, 'text': 'th', 'log_prob': -1.9073486328125e-06}, {'id': 6462, 'text': ' century', 'log_prob': -3.6954879760742188e-06}, {'id': 29892, 'text': ',', 'log_prob': -2.384185791015625e-07}, {'id': 727, 'text': ' there', 'log_prob': -0.214599609375}, {'id': 471, 'text': ' was', 'log_prob': -0.10479736328125}, {'id': 263, 'text': ' a', 'log_prob': -1.633167266845703e-05}, {'id': 767, 'text': ' man', 'log_prob': -0.8544921875}, {'id': 4257, 'text': ' named', 'log_prob': -0.0003387928009033203}, {'id': 10537, 'text': ' Albert', 'log_prob': -2.1457672119140625e-05}, {'id': 2694, 'text': ' Ein', 'log_prob': -3.5762786865234375e-07}, {'id': 5465, 'text': 'stein', 'log_prob': -7.152557373046875e-07}, {'id': 29889, 'text': '.', 'log_prob': -1.2294921875}, {'id': 940, 'text': ' He', 'log_prob': -0.1802978515625}, {'id': 471, 'text': ' was', 'log_prob': -5.1975250244140625e-05}, {'id': 263, 'text': ' a', 'log_prob': -0.0016584396362304688}, {'id': 27592, 'text': ' brilliant', 'log_prob': -0.03350830078125}, {'id': 4824, 'text': ' phys', 'log_prob': -0.005199432373046875}, {'id': 293, 'text': 'ic', 'log_prob': -4.172325134277344e-06}, {'id': 391, 'text': 'ist', 'log_prob': -3.0994415283203125e-06}, {'id': 1058, 'text': ' who', 'log_prob': -0.03656005859375}, {'id': 10600, 'text': ' lived', 'log_prob': -0.472900390625}, {'id': 297, 'text': ' in', 'log_prob': -0.0021495819091796875}, {'id': 263, 'text': ' a', 'log_prob': -0.177978515625}, {'id': 2319, 'text': ' small', 'log_prob': -0.0038928985595703125}, {'id': 263, 'text': ' a', 'log_prob': -0.06378173828125}, {'id': 8076, 'text': 'partment', 'log_prob': -3.5762786865234375e-07}, {'id': 297, 'text': ' in', 'log_prob': -0.0009312629699707031}, {'id': 5115, 'text': ' Berlin', 'log_prob': -0.01389312744140625}, {'id': 29892, 'text': ',', 'log_prob': -0.01212310791015625}, {'id': 9556, 'text': ' Germany', 'log_prob': -0.005748748779296875}, {'id': 29889, 'text': '.', 'log_prob': -0.01641845703125}, {'id': 10537, 'text': ' Albert', 'log_prob': -1.9111328125}, {'id': 471, 'text': ' was', 'log_prob': -0.0234222412109375}, {'id': 2998, 'text': ' known', 'log_prob': -0.1729736328125}, {'id': 363, 'text': ' for', 'log_prob': -0.0188140869140625}, {'id': 670, 'text': ' his', 'log_prob': -0.0003135204315185547}, {'id': 8775, 'text': ' wild', 'log_prob': -0.04888916015625}, {'id': 11315, 'text': ' hair', 'log_prob': -0.047027587890625}, {'id': 322, 'text': ' and', 'log_prob': -0.10638427734375}, {'id': 1584, 'text': ' even', 'log_prob': -3.33984375}, {'id': 281, 'text': ' w', 'log_prob': -0.00023996829986572266}, {'id': 2700, 'text': 'ilder', 'log_prob': -0.0005011558532714844}, {'id': 7014, 'text': ' ideas', 'log_prob': -0.2587890625}, {'id': 1048, 'text': ' about', 'log_prob': -0.04022216796875}, {'id': 278, 'text': ' the', 'log_prob': -0.004650115966796875}, {'id': 5469, 'text': ' nature', 'log_prob': -0.093994140625}, {'id': 310, 'text': ' of'}, {'id': 278, 'text': ' the', 'log_prob': -1.15234375}, {'id': 19859, 'text': ' universe', 'log_prob': -4.220008850097656e-05}, {'id': 29889, 'text': '.', 'log_prob': -2.86102294921875e-06}, {'id': 13, 'text': '\\n', 'log_prob': -0.0177764892578125}, {'id': 6716, 'text': 'One', 'log_prob': -0.0034847259521484375}, {'id': 2462, 'text': ' day', 'log_prob': -0.0007328987121582031}, {'id': 29892, 'text': ','}, {'id': 408, 'text': ' as', 'log_prob': -1.9375}, {'id': 540, 'text': ' he', 'log_prob': -0.00936126708984375}, {'id': 471, 'text': ' was', 'log_prob': -0.09906005859375}, {'id': 1985, 'text': ' working', 'log_prob': -0.8486328125}, {'id': 297, 'text': ' in', 'log_prob': -0.1473388671875}, {'id': 670, 'text': ' his', 'log_prob': -2.384185791015625e-07}, {'id': 10212, 'text': ' labor', 'log_prob': -1.498046875}, {'id': 7606, 'text': 'atory'}, {'id': 29892, 'text': ',', 'log_prob': -9.09566879272461e-05}, {'id': 10537, 'text': ' Albert', 'log_prob': -0.436767578125}, {'id': 750, 'text': ' had', 'log_prob': -0.0155792236328125}, {'id': 385, 'text': ' an', 'log_prob': -0.2890625}, {'id': 321, 'text': ' e', 'log_prob': -0.046905517578125}, {'id': 1631, 'text': 'pi', 'log_prob': -0.002368927001953125}, {'id': 561, 'text': 'ph', 'log_prob': -0.0005974769592285156}, {'id': 1384, 'text': 'any', 'log_prob': -8.094310760498047e-05}, {'id': 29889, 'text': '.', 'log_prob': -0.0018529891967773438}, {'id': 940, 'text': ' He', 'log_prob': -6.902217864990234e-05}, {'id': 16387, 'text': ' realized', 'log_prob': -0.31005859375}, {'id': 393, 'text': ' that', 'log_prob': -8.463859558105469e-06}, {'id': 278, 'text': ' the', 'log_prob': -0.08685302734375}, {'id': 14243, 'text': ' laws', 'log_prob': -0.355224609375}, {'id': 310, 'text': ' of', 'log_prob': -1.6450881958007812e-05}, {'id': 17558, 'text': ' physics', 'log_prob': -0.00453948974609375}, {'id': 29892, 'text': ',', 'log_prob': -1.1240234375}, {'id': 607, 'text': ' which', 'log_prob': -0.175537109375}, {'id': 750, 'text': ' had', 'log_prob': -0.126953125}, {'id': 1063, 'text': ' been', 'log_prob': -0.0015153884887695312}, {'id': 7841, 'text': ' established', 'log_prob': -0.83984375}, {'id': 363, 'text': ' for', 'log_prob': -0.0160980224609375}, {'id': 21726, 'text': ' centuries', 'log_prob': -0.01430511474609375}, {'id': 29892, 'text': ',', 'log_prob': -0.00028967857360839844}, {'id': 892, 'text': ' were', 'log_prob': -0.002429962158203125}, {'id': 451, 'text': ' not', 'log_prob': -0.58642578125}, {'id': 8380, 'text': ' absolute', 'log_prob': -0.6220703125}, {'id': 29889, 'text': '.', 'log_prob': -0.004276275634765625}, {'id': 2688, 'text': ' They', 'log_prob': -1.1669921875}, {'id': 892, 'text': ' were', 'log_prob': -0.07666015625}, {'id': 3763, 'text': ' simply', 'log_prob': -1.26171875}, {'id': 263, 'text': ' a', 'log_prob': -0.031036376953125}, {'id': 982, 'text': ' way', 'log_prob': -0.591796875}, {'id': 310, 'text': ' of', 'log_prob': -0.0012102127075195312}, {'id': 8004, 'text': ' understanding', 'log_prob': -0.560546875}, {'id': 278, 'text': ' the', 'log_prob': -0.00754547119140625}, {'id': 3186, 'text': ' world', 'log_prob': -0.8779296875}, {'id': 29892, 'text': ',', 'log_prob': -0.07794189453125}, {'id': 541, 'text': ' but', 'log_prob': -0.0301666259765625}, {'id': 896, 'text': ' they', 'log_prob': -0.09918212890625}, {'id': 892, 'text': ' were', 'log_prob': -0.916015625}, {'id': 451, 'text': ' not', 'log_prob': -0.0001157522201538086}, {'id': 278, 'text': ' the', 'log_prob': -0.005573272705078125}, {'id': 871, 'text': ' only', 'log_prob': -0.4423828125}, {'id': 982, 'text': ' way', 'log_prob': -0.0003635883331298828}, {'id': 29889, 'text': '.', 'log_prob': -1.0371208190917969e-05}, {'id': 13, 'text': '\\n', 'log_prob': -0.0367431640625}, {'id': 1252, 'text': 'Ex', 'log_prob': -0.365234375}, {'id': 29883, 'text': 'c', 'log_prob': -5.078315734863281e-05}, {'id': 1573, 'text': 'ited', 'log_prob': -6.4373016357421875e-06}, {'id': 491, 'text': ' by', 'log_prob': -8.58306884765625e-06}, {'id': 670, 'text': ' his', 'log_prob': -0.00447845458984375}, {'id': 20699, 'text': ' discovery', 'log_prob': -0.02288818359375}, {'id': 29892, 'text': ','}, {'id': 10537, 'text': ' Albert', 'log_prob': -0.0011014938354492188}, {'id': 10398, 'text': ' spent', 'log_prob': -0.716796875}, {'id': 278, 'text': ' the', 'log_prob': -0.09820556640625}, {'id': 2446, 'text': ' next', 'log_prob': -0.0006947517395019531}, {'id': 2846, 'text': ' few', 'log_prob': -0.890625}, {'id': 11405, 'text': ' weeks', 'log_prob': -0.49658203125}, {'id': 1985, 'text': ' working', 'log_prob': -0.267578125}, {'id': 260, 'text': ' t', 'log_prob': -0.2939453125}, {'id': 533, 'text': 'ire', 'log_prob': -8.344650268554688e-07}, {'id': 23769, 'text': 'lessly', 'log_prob': -1.52587890625e-05}, {'id': 373, 'text': ' on', 'log_prob': -2.154296875}, {'id': 263, 'text': ' a', 'log_prob': -0.30908203125}, {'id': 5962, 'text': ' ground', 'log_prob': -3.701171875}, {'id': 1030, 'text': 'bre', 'log_prob': -0.0004665851593017578}, {'id': 5086, 'text': 'aking'}, {'id': 716, 'text': ' new', 'log_prob': -0.97265625}, {'id': 6368, 'text': ' theory', 'log_prob': -0.0003542900085449219}, {'id': 29889, 'text': '.', 'log_prob': -0.0022373199462890625}, {'id': 940, 'text': ' He', 'log_prob': -0.0007486343383789062}, {'id': 10398, 'text': ' spent', 'log_prob': -1.3037109375}, {'id': 6199, 'text': ' hours', 'log_prob': -0.77734375}, {'id': 380, 'text': ' st', 'log_prob': -2.779296875}, {'id': 4362, 'text': 'aring', 'log_prob': -0.0023651123046875}, {'id': 472, 'text': ' at', 'log_prob': -0.336181640625}, {'id': 10693, 'text': ' equations', 'log_prob': -0.2783203125}, {'id': 29892, 'text': ',', 'log_prob': -0.490478515625}, {'id': 3907, 'text': ' making', 'log_prob': -4.09375}, {'id': 11486, 'text': ' notes', 'log_prob': -2.408203125}, {'id': 29892, 'text': ',', 'log_prob': -0.04339599609375}, {'id': 322, 'text': ' and', 'log_prob': -1.7881393432617188e-06}, {'id': 282, 'text': ' p', 'log_prob': -1.1220703125}, {'id': 9390, 'text': 'acing', 'log_prob': -0.0191192626953125}, {'id': 2820, 'text': ' around', 'log_prob': -0.1971435546875}, {'id': 670, 'text': ' his', 'log_prob': -0.0032787322998046875}, {'id': 263, 'text': ' a', 'log_prob': -0.1298828125}, {'id': 8076, 'text': 'partment', 'log_prob': -1.1920928955078125e-07}, {'id': 29889, 'text': '.', 'log_prob': -0.042510986328125}, {'id': 13, 'text': '\\n', 'log_prob': -0.193603515625}, {'id': 2887, 'text': 'As', 'log_prob': -1.0810546875}, {'id': 278, 'text': ' the', 'log_prob': -1.501953125}, {'id': 3841, 'text': ' days', 'log_prob': -0.0144805908203125}, {'id': 4502, 'text': ' passed', 'log_prob': -0.01453399658203125}, {'id': 29892, 'text': ',', 'log_prob': -1.9073486328125e-06}, {'id': 10537, 'text': ' Albert', 'log_prob': -0.032806396484375}, {'id': 3897, 'text': ' became', 'log_prob': -1.0927734375}, {'id': 901, 'text': ' more', 'log_prob': -0.2056884765625}, {'id': 322, 'text': ' and', 'log_prob': -2.86102294921875e-06}, {'id': 901, 'text': ' more', 'log_prob': -2.5033950805664062e-06}, {'id': 20881, 'text': ' obs', 'log_prob': -0.77685546875}, {'id': 11517, 'text': 'essed', 'log_prob': -0.00024175643920898438}, {'id': 411, 'text': ' with', 'log_prob': -2.7418136596679688e-06}, {'id': 670, 'text': ' his', 'log_prob': -2.2649765014648438e-06}, {'id': 664, 'text': ' work', 'log_prob': -0.03753662109375}, {'id': 29889, 'text': '.', 'log_prob': -0.00019109249114990234}, {'id': 940, 'text': ' He', 'log_prob': -0.0119476318359375}, {'id': 16079, 'text': ' bare', 'log_prob': -0.08428955078125}, {'id': 368, 'text': 'ly', 'log_prob': -3.814697265625e-06}, {'id': 12844, 'text': ' sle', 'log_prob': -0.5126953125}, {'id': 415, 'text': 'pt', 'log_prob': -8.344650268554688e-07}, {'id': 29892, 'text': ',', 'log_prob': -1.7919921875}, {'id': 16079, 'text': ' bare', 'log_prob': -0.145263671875}, {'id': 368, 'text': 'ly', 'log_prob': -1.1920928955078125e-07}, {'id': 263, 'text': ' a', 'log_prob': -0.00015532970428466797}, {'id': 371, 'text': 'te', 'log_prob': -5.9604644775390625e-06}, {'id': 29892, 'text': ',', 'log_prob': -0.0011377334594726562}, {'id': 322, 'text': ' and', 'log_prob': -2.4437904357910156e-05}, {'id': 16079, 'text': ' bare', 'log_prob': -0.039276123046875}, {'id': 368, 'text': 'ly', 'log_prob': -2.384185791015625e-07}, {'id': 12707, 'text': ' spoke', 'log_prob': -0.06103515625}, {'id': 304, 'text': ' to', 'log_prob': -0.0001550912857055664}, {'id': 5019, 'text': ' anyone', 'log_prob': -0.296875}, {'id': 2820, 'text': ' around', 'log_prob': -7.30859375}, {'id': 1075, 'text': ' him', 'log_prob': -3.5762786865234375e-07}, {'id': 29889, 'text': '.', 'log_prob': -7.867813110351562e-05}, {'id': 3600, 'text': ' His', 'log_prob': -0.00798797607421875}, {'id': 7875, 'text': ' friends', 'log_prob': -0.280029296875}, {'id': 322, 'text': ' and', 'log_prob': -0.0009655952453613281}, {'id': 3942, 'text': ' family', 'log_prob': -0.008697509765625}, {'id': 13631, 'text': ' grew', 'log_prob': -0.55224609375}, {'id': 15041, 'text': ' concerned', 'log_prob': -0.30126953125}, {'id': 29892, 'text': ',', 'log_prob': -0.111083984375}, {'id': 541, 'text': ' but', 'log_prob': -0.0009198188781738281}, {'id': 10537, 'text': ' Albert', 'log_prob': -0.0154876708984375}, {'id': 471, 'text': ' was', 'log_prob': -0.458984375}, {'id': 2086, 'text': ' too', 'log_prob': -0.089111328125}, {'id': 12624, 'text': ' caught', 'log_prob': -0.288330078125}, {'id': 701, 'text': ' up'}, {'id': 297, 'text': ' in', 'log_prob': -7.152557373046875e-07}, {'id': 670, 'text': ' his', 'log_prob': -0.0002346038818359375}, {'id': 7014, 'text': ' ideas', 'log_prob': -0.5625}, {'id': 304, 'text': ' to', 'log_prob': -2.384185791015625e-07}, {'id': 8369, 'text': ' notice', 'log_prob': -0.0411376953125}, {'id': 29889, 'text': '.', 'log_prob': -0.0016937255859375}, {'id': 13, 'text': '\\n', 'log_prob': -4.172325134277344e-06}, {'id': 12881, 'text': 'Fin', 'log_prob': -0.003612518310546875}, {'id': 635, 'text': 'ally', 'log_prob': -1.1920928955078125e-07}, {'id': 29892, 'text': ','}, {'id': 1156, 'text': ' after', 'log_prob': -0.034637451171875}, {'id': 11405, 'text': ' weeks', 'log_prob': -0.2496337890625}, {'id': 310, 'text': ' of', 'log_prob': -9.5367431640625e-07}, {'id': 664, 'text': ' work', 'log_prob': -1.65625}, {'id': 29892, 'text': ',', 'log_prob': -2.9802322387695312e-06}, {'id': 10537, 'text': ' Albert', 'log_prob': -0.01377105712890625}, {'id': 750, 'text': ' had', 'log_prob': -0.2454833984375}, {'id': 263, 'text': ' a', 'log_prob': -0.04083251953125}, {'id': 4866, 'text': ' complete', 'log_prob': -0.391357421875}, {'id': 6368, 'text': ' theory', 'log_prob': -0.63525390625}, {'id': 29889, 'text': '.', 'log_prob': -0.03082275390625}, {'id': 739, 'text': ' It', 'log_prob': -1.7529296875}, {'id': 471, 'text': ' was', 'log_prob': -0.0012865066528320312}, {'id': 263, 'text': ' a', 'log_prob': -0.291259765625}, {'id': 14288, 'text': ' bold', 'log_prob': -4.453125}, {'id': 322, 'text': ' and', 'log_prob': -1.0771484375}, {'id': 19479, 'text': ' revolution', 'log_prob': -0.1510009765625}, {'id': 653, 'text': 'ary'}, {'id': 2969, 'text': ' idea', 'log_prob': -0.0190582275390625}, {'id': 393, 'text': ' that', 'log_prob': -0.0933837890625}, {'id': 18066, 'text': ' challeng', 'log_prob': -0.06475830078125}, {'id': 287, 'text': 'ed', 'log_prob': -1.1920928955078125e-07}, {'id': 278, 'text': ' the', 'log_prob': -2.177734375}, {'id': 13807, 'text': ' traditional', 'log_prob': -3.19140625}, {'id': 8004, 'text': ' understanding', 'log_prob': -0.0831298828125}, {'id': 310, 'text': ' of'}, {'id': 2913, 'text': ' space', 'log_prob': -0.08203125}, {'id': 322, 'text': ' and', 'log_prob': -0.028411865234375}, {'id': 931, 'text': ' time', 'log_prob': -1.7881393432617188e-06}, {'id': 29889, 'text': '.', 'log_prob': -1.8358230590820312e-05}, {'id': 940, 'text': ' He', 'log_prob': -0.048675537109375}, {'id': 2000, 'text': ' called', 'log_prob': -0.2132568359375}, {'id': 372, 'text': ' it', 'log_prob': -0.00023603439331054688}, {'id': 376, 'text': ' \"', 'log_prob': -0.1832275390625}, {'id': 1576, 'text': 'The', 'log_prob': -1.1337890625}, {'id': 24134, 'text': ' Theory', 'log_prob': -0.0173187255859375}, {'id': 310, 'text': ' of', 'log_prob': -3.5762786865234375e-06}, {'id': 6376, 'text': ' Rel', 'log_prob': -0.018890380859375}, {'id': 28157, 'text': 'ativity', 'log_prob': -0.00020229816436767578}, {'id': 1213, 'text': '.\"', 'log_prob': -0.019317626953125}, {'id': 13, 'text': '\\n', 'log_prob': -1.1920928955078125e-07}, {'id': 3047, 'text': 'With', 'log_prob': -4.921875}, {'id': 2107, 'text': ' great', 'log_prob': -0.395263671875}, {'id': 29163, 'text': ' excitement', 'log_prob': -0.00982666015625}, {'id': 29892, 'text': ',', 'log_prob': -0.00902557373046875}, {'id': 10537, 'text': ' Albert', 'log_prob': -0.0010242462158203125}, {'id': 9132, 'text': ' presented', 'log_prob': -0.74267578125}, {'id': 670, 'text': ' his', 'log_prob': -1.1920928955078125e-07}, {'id': 6368, 'text': ' theory', 'log_prob': -0.0248565673828125}, {'id': 304, 'text': ' to', 'log_prob': -0.0006074905395507812}, {'id': 278, 'text': ' the', 'log_prob': -0.0012121200561523438}, {'id': 16021, 'text': ' scientific', 'log_prob': -0.01287078857421875}, {'id': 7881, 'text': ' community', 'log_prob': -7.665157318115234e-05}, {'id': 29889, 'text': '.', 'log_prob': -0.00018298625946044922}, {'id': 2180, 'text': ' At', 'log_prob': -0.039031982421875}, {'id': 937, 'text': ' first', 'log_prob': -2.0265579223632812e-06}, {'id': 29892, 'text': ',', 'log_prob': -1.1920928955078125e-07}, {'id': 1784, 'text': ' many', 'log_prob': -0.44873046875}, {'id': 310, 'text': ' of', 'log_prob': -1.1572265625}, {'id': 670, 'text': ' his', 'log_prob': -0.2362060546875}, {'id': 23056, 'text': ' colle', 'log_prob': -0.258544921875}, {'id': 21628, 'text': 'agues'}, {'id': 892, 'text': ' were', 'log_prob': -0.0007853507995605469}, {'id': 18109, 'text': ' ske', 'log_prob': -0.00021660327911376953}, {'id': 415, 'text': 'pt', 'log_prob': -3.695487976074219e-05}, {'id': 936, 'text': 'ical', 'log_prob': -1.430511474609375e-05}, {'id': 29892, 'text': ',', 'log_prob': -0.59423828125}, {'id': 541, 'text': ' but', 'log_prob': -0.0058746337890625}, {'id': 408, 'text': ' as', 'log_prob': -0.026458740234375}, {'id': 896, 'text': ' they', 'log_prob': -0.01258087158203125}, {'id': 4689, 'text': ' began', 'log_prob': -1.0771484375}, {'id': 304, 'text': ' to'}, {'id': 2274, 'text': ' understand', 'log_prob': -0.1422119140625}, {'id': 278, 'text': ' the', 'log_prob': -0.034332275390625}, {'id': 2411, 'text': ' imp', 'log_prob': -0.3388671875}, {'id': 5795, 'text': 'lications', 'log_prob': -2.384185791015625e-06}, {'id': 310, 'text': ' of', 'log_prob': -2.956390380859375e-05}, {'id': 278, 'text': ' the', 'log_prob': -4.23046875}, {'id': 6368, 'text': ' theory', 'log_prob': -0.0005269050598144531}, {'id': 29892, 'text': ',', 'log_prob': -3.5762786865234375e-06}, {'id': 896, 'text': ' they', 'log_prob': -0.004150390625}, {'id': 16387, 'text': ' realized', 'log_prob': -0.486083984375}, {'id': 278, 'text': ' the', 'log_prob': -1.984375}, {'id': 2600, 'text': ' prof', 'log_prob': -2.05859375}, {'id': 618, 'text': 'ound', 'log_prob': -0.407470703125}, {'id': 26002, 'text': ' significance', 'log_prob': -0.55029296875}, {'id': 310, 'text': ' of', 'log_prob': -6.008148193359375e-05}, {'id': 10537, 'text': ' Albert', 'log_prob': -0.36962890625}, {'id': 29915, 'text': \"'\", 'log_prob': -2.849102020263672e-05}, {'id': 29879, 'text': 's', 'log_prob': -1.7523765563964844e-05}, {'id': 20699, 'text': ' discovery', 'log_prob': -1.0009765625}, {'id': 29889, 'text': '.', 'log_prob': -3.5762786865234375e-07}, {'id': 13, 'text': '\\n', 'log_prob': -0.00484466552734375}, {'id': 1576, 'text': 'The', 'log_prob': -0.35302734375}, {'id': 24134, 'text': ' Theory', 'log_prob': -0.01397705078125}, {'id': 310, 'text': ' of', 'log_prob': -1.1920928955078125e-07}, {'id': 6376, 'text': ' Rel', 'log_prob': -3.933906555175781e-06}, {'id': 28157, 'text': 'ativity', 'log_prob': -2.86102294921875e-06}, {'id': 9098, 'text': ' quickly', 'log_prob': -1.7880859375}, {'id': 17515, 'text': ' gained', 'log_prob': -0.62109375}, {'id': 3544, 'text': ' accept', 'log_prob': -0.638671875}, {'id': 749, 'text': 'ance'}, {'id': 322, 'text': ' and', 'log_prob': -0.1634521484375}, {'id': 4720, 'text': ' soon', 'log_prob': -1.8837890625}, {'id': 3897, 'text': ' became', 'log_prob': -0.00910186767578125}, {'id': 697, 'text': ' one', 'log_prob': -0.387451171875}, {'id': 310, 'text': ' of', 'log_prob': -1.1920928955078125e-07}, {'id': 278, 'text': ' the', 'log_prob': -3.5762786865234375e-07}, {'id': 1556, 'text': ' most', 'log_prob': -0.1273193359375}, {'id': 4100, 'text': ' important', 'log_prob': -0.12139892578125}, {'id': 16021, 'text': ' scientific', 'log_prob': -0.08740234375}, {'id': 6523, 'text': ' discover', 'log_prob': -0.69970703125}, {'id': 583, 'text': 'ies'}, {'id': 310, 'text': ' of', 'log_prob': -0.002407073974609375}, {'id': 278, 'text': ' the', 'log_prob': -2.956390380859375e-05}, {'id': 29871, 'text': ' ', 'log_prob': -0.28515625}, {'id': 29906, 'text': '2', 'log_prob': -2.2649765014648438e-06}, {'id': 29900, 'text': '0', 'log_prob': -3.0994415283203125e-06}, {'id': 386, 'text': 'th'}, {'id': 6462, 'text': ' century', 'log_prob': -7.152557373046875e-07}, {'id': 29889, 'text': '.', 'log_prob': -5.078315734863281e-05}, {'id': 10537, 'text': ' Albert', 'log_prob': -0.17919921875}, {'id': 2694, 'text': ' Ein', 'log_prob': -0.302978515625}, {'id': 5465, 'text': 'stein', 'log_prob': -1.1920928955078125e-06}, {'id': 471, 'text': ' was', 'log_prob': -0.62841796875}, {'id': 447, 'text': ' ha', 'log_prob': -0.000629425048828125}, {'id': 2356, 'text': 'iled', 'log_prob': -5.960464477539062e-07}, {'id': 408, 'text': ' as', 'log_prob': -6.318092346191406e-06}, {'id': 697, 'text': ' one', 'log_prob': -2.87109375}, {'id': 310, 'text': ' of', 'log_prob': -1.0728836059570312e-06}, {'id': 278, 'text': ' the', 'log_prob': -1.5974044799804688e-05}, {'id': 14176, 'text': ' greatest', 'log_prob': -0.002727508544921875}, {'id': 27656, 'text': ' minds', 'log_prob': -0.1075439453125}, {'id': 310, 'text': ' of', 'log_prob': -1.779296875}, {'id': 670, 'text': ' his', 'log_prob': -0.67919921875}, {'id': 12623, 'text': ' generation', 'log_prob': -0.385009765625}, {'id': 29892, 'text': ',', 'log_prob': -0.48193359375}, {'id': 322, 'text': ' and', 'log_prob': -0.00023186206817626953}, {'id': 670, 'text': ' his', 'log_prob': -0.0380859375}, {'id': 1024, 'text': ' name', 'log_prob': -0.498046875}, {'id': 3897, 'text': ' became', 'log_prob': -0.00037741661071777344}, {'id': 5222, 'text': ' syn', 'log_prob': -0.00524139404296875}, {'id': 11428, 'text': 'onymous', 'log_prob': -3.6597251892089844e-05}, {'id': 411, 'text': ' with', 'log_prob': -3.5762786865234375e-07}, {'id': 26858, 'text': ' genius', 'log_prob': -0.0675048828125}, {'id': 29889, 'text': '.', 'log_prob': -0.5556640625}, {'id': 13, 'text': '\\n', 'log_prob': -5.9604644775390625e-06}, {'id': 6246, 'text': 'But', 'log_prob': -0.75048828125}, {'id': 15020, 'text': ' despite', 'log_prob': -2.02734375}, {'id': 670, 'text': ' his', 'log_prob': -0.04034423828125}, {'id': 2551, 'text': ' success', 'log_prob': -0.751953125}, {'id': 29892, 'text': ',', 'log_prob': -0.01311492919921875}, {'id': 10537, 'text': ' Albert', 'log_prob': -0.00016987323760986328}, {'id': 2360, 'text': ' never', 'log_prob': -0.537109375}, {'id': 9640, 'text': ' forgot', 'log_prob': -0.277587890625}, {'id': 278, 'text': ' the', 'log_prob': -0.2437744140625}, {'id': 3165, 'text': ' hum', 'log_prob': -1.85546875}, {'id': 1793, 'text': 'ility', 'log_prob': -1.0234375}, {'id': 322, 'text': ' and', 'log_prob': -0.05718994140625}, {'id': 27742, 'text': ' curiosity', 'log_prob': -0.0227813720703125}, {'id': 393, 'text': ' that', 'log_prob': -0.00044727325439453125}, {'id': 750, 'text': ' had', 'log_prob': -0.0089874267578125}, {'id': 18225, 'text': ' driven', 'log_prob': -0.0231170654296875}, {'id': 1075, 'text': ' him', 'log_prob': -0.00960540771484375}, {'id': 304, 'text': ' to', 'log_prob': -0.0007610321044921875}, {'id': 1207, 'text': ' make', 'log_prob': -0.2462158203125}, {'id': 670, 'text': ' his', 'log_prob': -0.00963592529296875}, {'id': 5962, 'text': ' ground', 'log_prob': -0.164794921875}, {'id': 1030, 'text': 'bre', 'log_prob': -2.2649765014648438e-06}, {'id': 5086, 'text': 'aking', 'log_prob': -1.1920928955078125e-07}, {'id': 20699, 'text': ' discovery', 'log_prob': -0.0374755859375}, {'id': 29889, 'text': '.', 'log_prob': -0.0019588470458984375}, {'id': 940, 'text': ' He', 'log_prob': -0.0029048919677734375}, {'id': 7572, 'text': ' continued', 'log_prob': -0.1295166015625}, {'id': 304, 'text': ' to', 'log_prob': -7.510185241699219e-06}, {'id': 664, 'text': ' work', 'log_prob': -0.2120361328125}, {'id': 322, 'text': ' and', 'log_prob': -2.6171875}, {'id': 26987, 'text': ' explore', 'log_prob': -1.7802734375}, {'id': 716, 'text': ' new', 'log_prob': -1.8896484375}, {'id': 7014, 'text': ' ideas', 'log_prob': -1.1444091796875e-05}, {'id': 29892, 'text': ',', 'log_prob': -0.1982421875}, {'id': 2337, 'text': ' always', 'log_prob': -0.017730712890625}, {'id': 27556, 'text': ' pushing', 'log_prob': -0.3740234375}, {'id': 278, 'text': ' the', 'log_prob': -6.723403930664062e-05}, {'id': 24371, 'text': ' boundaries', 'log_prob': -0.00591278076171875}, {'id': 310, 'text': ' of'}, {'id': 5199, 'text': ' human', 'log_prob': -0.57275390625}, {'id': 8004, 'text': ' understanding', 'log_prob': -0.1287841796875}, {'id': 29889, 'text': '.', 'log_prob': -0.01453399658203125}, {'id': 13, 'text': '\\n', 'log_prob': -0.15087890625}, {'id': 2855, 'text': 'And', 'log_prob': -0.2763671875}, {'id': 577, 'text': ' so', 'log_prob': -0.1368408203125}, {'id': 29892, 'text': ',', 'log_prob': -0.001708984375}, {'id': 278, 'text': ' the', 'log_prob': -0.070556640625}, {'id': 5828, 'text': ' story', 'log_prob': -0.1129150390625}, {'id': 310, 'text': ' of', 'log_prob': -0.00014209747314453125}, {'id': 10537, 'text': ' Albert', 'log_prob': -4.649162292480469e-06}, {'id': 2694, 'text': ' Ein'}, {'id': 5465, 'text': 'stein', 'log_prob': -3.5762786865234375e-07}, {'id': 19700, 'text': ' serves', 'log_prob': -0.044189453125}, {'id': 408, 'text': ' as', 'log_prob': -9.894371032714844e-06}, {'id': 263, 'text': ' a', 'log_prob': -0.0005521774291992188}, {'id': 1083, 'text': ' rem', 'log_prob': -0.005619049072265625}, {'id': 4995, 'text': 'inder', 'log_prob': -2.014636993408203e-05}, {'id': 393, 'text': ' that', 'log_prob': -0.05364990234375}, {'id': 278, 'text': ' the', 'log_prob': -2.07421875}, {'id': 12359, 'text': ' purs', 'log_prob': -0.76953125}, {'id': 3121, 'text': 'uit'}, {'id': 310, 'text': ' of'}, {'id': 7134, 'text': ' knowledge', 'log_prob': -0.0005555152893066406}, {'id': 322, 'text': ' and', 'log_prob': -0.057769775390625}, {'id': 278, 'text': ' the', 'log_prob': -0.136962890625}, {'id': 5360, 'text': ' love', 'log_prob': -0.66064453125}, {'id': 310, 'text': ' of', 'log_prob': -0.0008172988891601562}, {'id': 6509, 'text': ' learning', 'log_prob': -0.044219970703125}, {'id': 526, 'text': ' are', 'log_prob': -0.06658935546875}, {'id': 278, 'text': ' the', 'log_prob': -0.1741943359375}, {'id': 6611, 'text': ' keys', 'log_prob': -0.10919189453125}, {'id': 304, 'text': ' to', 'log_prob': -2.9802322387695312e-06}, {'id': 443, 'text': ' un', 'log_prob': -0.60546875}, {'id': 908, 'text': 'lock', 'log_prob': -1.6570091247558594e-05}, {'id': 292, 'text': 'ing', 'log_prob': -0.0001500844955444336}, {'id': 278, 'text': ' the', 'log_prob': -0.26025390625}, {'id': 22183, 'text': ' secre', 'log_prob': -0.07257080078125}, {'id': 1372, 'text': 'ts', 'log_prob': -2.0265579223632812e-06}, {'id': 310, 'text': ' of'}, {'id': 278, 'text': ' the', 'log_prob': -2.86102294921875e-06}, {'id': 19859, 'text': ' universe', 'log_prob': -1.7523765563964844e-05}, {'id': 29889, 'text': '.', 'log_prob': -0.006053924560546875}, {'id': 2, 'log_prob': -0.43212890625, 'special_token': True}]}}\n"
     ]
    }
   ],
   "source": [
    "#Debug Print Statement\n",
    "\n",
    "print(result)"
   ]
  },
  {
   "cell_type": "code",
   "execution_count": 38,
   "id": "63852d39-63d5-47ae-8f77-4d2f35e73de7",
   "metadata": {
    "tags": []
   },
   "outputs": [
    {
     "name": "stdout",
     "output_type": "stream",
     "text": [
      "assistant:  Of course! Here's one:\n",
      "Why don't scientists trust atoms?\n",
      "Because they make up everything!\n",
      "I hope that brought a smile to your face! Is there anything else you'd like to chat about?\n",
      "user: Tell me a joke.\n",
      "assistant:  Sure, here's one:\n",
      "Why don't lobsters share?\n",
      "Because they're shellfish!\n",
      "I hope you found that amusing! Do you have any other topics you'd like to discuss?\n"
     ]
    }
   ],
   "source": [
    "assistant_response = {\"role\": result[\"role\"], \"content\": result[\"content\"]}\n",
    "\n",
    "print(f'{result[\"role\"]}: {result[\"content\"]}')\n",
    "\n",
    "chat.append(assistant_response)\n",
    "# next\n",
    "user_input = {\"role\": \"user\", \"content\": \"Tell me a joke.\"}\n",
    "print(f'{user_input[\"role\"]}: {user_input[\"content\"]}')\n",
    "chat.append(user_input)\n",
    "result = predictor.predict(\n",
    "    {\"chat\": chat, \"parameters\": {\"do_sample\": True, \"details\": True, \"max_new_tokens\": 512}}\n",
    ")\n",
    "print(f'{result[\"role\"]}: {result[\"content\"]}')\n"
   ]
  },
  {
   "cell_type": "markdown",
   "id": "c1cd9042",
   "metadata": {},
   "source": [
    "## Clean up the environment"
   ]
  },
  {
   "cell_type": "code",
   "execution_count": null,
   "id": "3d674b41",
   "metadata": {},
   "outputs": [],
   "source": [
    "sess.delete_endpoint(endpoint_name)\n",
    "sess.delete_endpoint_config(endpoint_name)\n",
    "model.delete_model()"
   ]
  }
 ],
 "metadata": {
  "kernelspec": {
   "display_name": "conda_python3",
   "language": "python",
   "name": "conda_python3"
  },
  "language_info": {
   "codemirror_mode": {
    "name": "ipython",
    "version": 3
   },
   "file_extension": ".py",
   "mimetype": "text/x-python",
   "name": "python",
   "nbconvert_exporter": "python",
   "pygments_lexer": "ipython3",
   "version": "3.10.13"
  }
 },
 "nbformat": 4,
 "nbformat_minor": 5
}
