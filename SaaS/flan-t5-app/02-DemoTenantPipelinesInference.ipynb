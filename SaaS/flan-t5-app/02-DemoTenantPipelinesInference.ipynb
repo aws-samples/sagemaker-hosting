{
 "cells": [
  {
   "cell_type": "markdown",
   "id": "0de81356-df0e-460a-bb4a-4a52a0ad0d17",
   "metadata": {
    "tags": []
   },
   "source": [
    "# SageMaker Pipelines - Invoking a tenant specific endpoint (SaaS)\n",
    "\n",
    "This notebook demonstrates invoking a tenant's model hosted on a SageMaker single model endpoint.\n",
    "\n",
    "This notebook has been tested on SageMaker Studio using the `Data Science` kernel on an `ml.t3.medium`. \n",
    "\n",
    "\n",
    "Please make sure your execution role attached to your Studio user profile has `iam:CreatePolicy, iam:CreateRole, iam:AttachRolePolicy and SageMakerFullAccess` permissions/policy attached.\n",
    "\n",
    "---"
   ]
  },
  {
   "cell_type": "markdown",
   "id": "4f0eeaf5-ad59-4afd-892a-67e7f0f81993",
   "metadata": {},
   "source": [
    "##  Create single model endpoint for a tenant\n",
    "\n",
    "### Set up\n",
    "\n",
    "Below we will retrieve the the `image_uri` we will use to host the models with. We will be using the SageMaker Large Model Inference image. We will also set the S3 location where the tenant's model are saved so that the SageMaker endpoint can access it. "
   ]
  },
  {
   "cell_type": "code",
   "execution_count": 57,
   "id": "d8371774-946c-4573-9139-b4b53ccc2b8d",
   "metadata": {
    "tags": []
   },
   "outputs": [
    {
     "data": {
      "text/plain": [
       "'763104351884.dkr.ecr.us-east-1.amazonaws.com/djl-inference:0.20.0-deepspeed0.7.5-cu116'"
      ]
     },
     "execution_count": 57,
     "metadata": {},
     "output_type": "execute_result"
    }
   ],
   "source": [
    "import boto3\n",
    "\n",
    "region = boto3.Session().region_name\n",
    "# inference_image_uri = f\"{account_id}.dkr.ecr.{region}.amazonaws.com/djl-ds:latest\"\n",
    "inference_image_uri = (\n",
    "    f\"763104351884.dkr.ecr.{region}.amazonaws.com/djl-inference:0.20.0-deepspeed0.7.5-cu116\"\n",
    ")\n",
    "\n",
    "inference_image_uri"
   ]
  },
  {
   "cell_type": "markdown",
   "id": "14bb67cc-2df2-4ac2-a50d-551f99b74f39",
   "metadata": {},
   "source": [
    "### Use tenant1's model\n",
    "\n",
    "We will deploy tenant1's model to a SageMaker endpoint. "
   ]
  },
  {
   "cell_type": "code",
   "execution_count": 58,
   "id": "a79f1939-3ae8-41c0-9371-0e8a5c4f70da",
   "metadata": {
    "tags": []
   },
   "outputs": [
    {
     "name": "stdout",
     "output_type": "stream",
     "text": [
      "Tenant's model located at: s3://sagemaker-us-east-1-171503325295/tenant1/model_artifacts/tenant1-app1.model.0.tar.gz\n"
     ]
    }
   ],
   "source": [
    "import sagemaker\n",
    "sagemaker_session = sagemaker.Session()\n",
    "default_bucket = sagemaker_session.default_bucket()\n",
    "\n",
    "tenant_id = \"tenant1\"\n",
    "app_id = \"app1\"\n",
    "version= 0\n",
    "\n",
    "model_location = f\"s3://{default_bucket}/{tenant_id}/model_artifacts/{tenant_id}-{app_id}.model.{version}.tar.gz\"\n",
    "\n",
    "print(f\"Tenant's model located at: {model_location}\")"
   ]
  },
  {
   "cell_type": "markdown",
   "id": "1dbb06a2-dcd1-483b-9b2a-fd2d96c92cdb",
   "metadata": {},
   "source": [
    "### Create SageMaker Model entity"
   ]
  },
  {
   "cell_type": "code",
   "execution_count": 59,
   "id": "1520906e-ff09-4906-903d-10fbb948077b",
   "metadata": {
    "tags": []
   },
   "outputs": [
    {
     "name": "stdout",
     "output_type": "stream",
     "text": [
      "Model Arn: arn:aws:sagemaker:us-east-1:171503325295:model/flan-t5-tenant1-app12023-05-15-22-43-29\n"
     ]
    }
   ],
   "source": [
    "import time\n",
    "from sagemaker import get_execution_role\n",
    "sess = boto3.Session()\n",
    "sm_client = sess.client(\"sagemaker\")\n",
    "role = get_execution_role()\n",
    "\n",
    "\n",
    "sm_model_name = f\"flan-t5-{tenant_id}-{app_id}\" + time.strftime(\"%Y-%m-%d-%H-%M-%S\", time.gmtime())\n",
    "\n",
    "create_model_response = sm_client.create_model(\n",
    "    ModelName=sm_model_name,\n",
    "    ExecutionRoleArn=role,\n",
    "    PrimaryContainer={\n",
    "        \"Image\": inference_image_uri,\n",
    "        \"ModelDataUrl\": model_location\n",
    "    },\n",
    "    \n",
    ")\n",
    "model_arn = create_model_response[\"ModelArn\"]\n",
    "\n",
    "print(\"Model Arn: \" + create_model_response[\"ModelArn\"])"
   ]
  },
  {
   "cell_type": "markdown",
   "id": "aa46eb84-0ce0-4ae8-96b6-26f74209c327",
   "metadata": {
    "tags": []
   },
   "source": [
    "### Create SageMaker Endpoint Configuration"
   ]
  },
  {
   "cell_type": "code",
   "execution_count": 60,
   "id": "471a654b-d80a-4209-8cdb-9c902cc49b5b",
   "metadata": {
    "tags": []
   },
   "outputs": [
    {
     "name": "stdout",
     "output_type": "stream",
     "text": [
      "Endpoint Config Arn: arn:aws:sagemaker:us-east-1:171503325295:endpoint-config/flan-t5-tenant1-app12023-05-15-22-43-30\n"
     ]
    }
   ],
   "source": [
    "endpoint_config_name = f\"flan-t5-{tenant_id}-{app_id}\" + time.strftime(\"%Y-%m-%d-%H-%M-%S\", time.gmtime())\n",
    "\n",
    "create_endpoint_config_response = sm_client.create_endpoint_config(\n",
    "    EndpointConfigName=endpoint_config_name,\n",
    "    ProductionVariants=[\n",
    "        {\n",
    "            \"InstanceType\": \"ml.g5.12xlarge\",\n",
    "            \"InitialVariantWeight\": 1,\n",
    "            \"InitialInstanceCount\": 1,\n",
    "            \"ModelName\": sm_model_name,\n",
    "            \"VariantName\": \"AllTraffic\",\n",
    "            \"ModelDataDownloadTimeoutInSeconds\": 3600, \n",
    "            \"ContainerStartupHealthCheckTimeoutInSeconds\": 3600, \n",
    "        }\n",
    "    ],\n",
    ")\n",
    "\n",
    "print(\"Endpoint Config Arn: \" + create_endpoint_config_response[\"EndpointConfigArn\"])"
   ]
  },
  {
   "cell_type": "code",
   "execution_count": 61,
   "id": "3e16f093-bad5-4fd6-92b2-714e9c030e91",
   "metadata": {
    "tags": []
   },
   "outputs": [
    {
     "name": "stdout",
     "output_type": "stream",
     "text": [
      "Endpoint Arn: arn:aws:sagemaker:us-east-1:171503325295:endpoint/flan-t5-tenant1-app12023-05-15-22-43-31\n"
     ]
    }
   ],
   "source": [
    "endpoint_name = f\"flan-t5-{tenant_id}-{app_id}\" + time.strftime(\"%Y-%m-%d-%H-%M-%S\", time.gmtime())\n",
    "\n",
    "create_endpoint_response = sm_client.create_endpoint(\n",
    "    EndpointName=endpoint_name, EndpointConfigName=endpoint_config_name,  Tags=[{\"Key\":\"TenantID\", \"Value\":f\"{tenant_id}\"}]\n",
    ")\n",
    "\n",
    "print(\"Endpoint Arn: \" + create_endpoint_response[\"EndpointArn\"])"
   ]
  },
  {
   "cell_type": "code",
   "execution_count": 62,
   "id": "969b0b70-9898-4d8e-bdcf-5f93e3b8c1c0",
   "metadata": {
    "tags": []
   },
   "outputs": [
    {
     "name": "stdout",
     "output_type": "stream",
     "text": [
      "Waiting for endpoint to create...\n",
      "Endpoint Status: InService\n",
      "Arn: arn:aws:sagemaker:us-east-1:171503325295:endpoint/flan-t5-tenant1-app12023-05-15-22-43-31\n"
     ]
    }
   ],
   "source": [
    "waiter = sm_client.get_waiter(\"endpoint_in_service\")\n",
    "print(\"Waiting for endpoint to create...\")\n",
    "waiter.wait(EndpointName=endpoint_name)\n",
    "resp = sm_client.describe_endpoint(EndpointName=endpoint_name)\n",
    "print(f\"Endpoint Status: {resp['EndpointStatus']}\")\n",
    "\n",
    "print(\"Arn: \" + resp[\"EndpointArn\"])"
   ]
  },
  {
   "cell_type": "markdown",
   "id": "5db821e1-3ff1-40d4-b57c-71be441ae0d3",
   "metadata": {},
   "source": [
    "### Create ABAC role for invocation (Bridge approach)\n",
    "In this section we create an IAM role (`DemoTenantPipelineSMEInvokeRole`) and policy which only allows invocation to a tenant specific endpoint.\n",
    "\n",
    "First we create a policy for the role that restricts access to an endpoint which is taged with the specific tenant (`aws:PrincipalTag/TenantID`). `aws:PrincipalTag/TenantID` will match the principal thats making the API call. I.e. when tenant1 makes InvokeEndpoint `aws:PrincipalTag/TenantID` will be of the value `tenant1` "
   ]
  },
  {
   "attachments": {
    "19455ab7-19d5-4b9f-89a1-25bc56bb2ad5.png": {
     "image/png": "[encoded data removed]"
    },
    "75e07746-df8b-4b65-9d5a-c33f3510c18c.png": {
     "image/png": "[encoded data removed]"
    }
   },
   "cell_type": "markdown",
   "id": "07a5b0bc-ceab-4493-995b-013c2854bf44",
   "metadata": {},
   "source": [
    "![saas-bridge.png](attachment:19455ab7-19d5-4b9f-89a1-25bc56bb2ad5.png)\n",
    "\n",
    "In order to conform with the policy above we will need to assume the `DemoTenantPipelineSMEInvokeRole` and provide the session TenantID tag corresponding to the specific tenant. \n",
    "\n",
    "For this example, we are using the SageMaker Studo execution role to Assume the `DemoTenantPipelineSMEInvokeRole`.  \n",
    "\n",
    "![saas-invoke-pipeline-role.png](attachment:75e07746-df8b-4b65-9d5a-c33f3510c18c.png)"
   ]
  },
  {
   "cell_type": "code",
   "execution_count": 70,
   "id": "552272ce-e7e3-41ac-b35e-a027a30bff79",
   "metadata": {
    "tags": []
   },
   "outputs": [
    {
     "name": "stdout",
     "output_type": "stream",
     "text": [
      "The IAM policy DemoTenantPipelineSMEInvokePolicy already exists with ARN arn:aws:iam::171503325295:policy/DemoTenantPipelineSMEInvokePolicy\n"
     ]
    }
   ],
   "source": [
    "import boto3\n",
    "import json\n",
    "import sagemaker.session\n",
    "\n",
    "sts = boto3.client('sts')\n",
    "iam = boto3.client('iam')\n",
    "region = boto3.session.Session().region_name\n",
    "account_id = sts.get_caller_identity()['Account']\n",
    "\n",
    "sagemaker_exec_role=sagemaker.session.get_execution_role().split('/')[-1]\n",
    "\n",
    "invoke_policy_name=\"DemoTenantPipelineSMEInvokePolicy\"\n",
    "\n",
    "invoke_policy_document = {\n",
    "    \"Version\": \"2012-10-17\",\n",
    "    \"Statement\": [\n",
    "        {\n",
    "            \"Effect\": \"Allow\",\n",
    "            \"Action\": \"sagemaker:InvokeEndpoint\",\n",
    "            \"Resource\": f\"arn:aws:sagemaker:{region}:{account_id}:endpoint/flan-t5-${{aws:PrincipalTag/TenantID}}-*\",\n",
    "            \"Condition\": {\n",
    "                \"StringEquals\": {\n",
    "                    \"aws:ResourceTag/TenantID\": \"${aws:PrincipalTag/TenantID}\"\n",
    "                }\n",
    "            }\n",
    "        }\n",
    "    ]\n",
    "}\n",
    "\n",
    "try:\n",
    "    invoke_policy = iam.create_policy(\n",
    "        PolicyName=invoke_policy_name,\n",
    "        PolicyDocument=json.dumps(invoke_policy_document)\n",
    "    )\n",
    "    \n",
    "except iam.exceptions.EntityAlreadyExistsException:\n",
    "    # If the policy already exists, get its ARN\n",
    "    policy = iam.get_policy(PolicyArn=f\"arn:aws:iam::{account_id}:policy/{invoke_policy_name}\")\n",
    "\n",
    "    # Print the ARN of the existing IAM policy\n",
    "    print(f\"The IAM policy {invoke_policy_name} already exists with ARN {policy['Policy']['Arn']}\")\n"
   ]
  },
  {
   "cell_type": "markdown",
   "id": "fa6dd7c7-3d43-4501-9857-71a4817f78d3",
   "metadata": {},
   "source": [
    "\n",
    "Now that the policy is created we need to create the role. In the trust policy we will only allow the SageMaker Studio execution role to assume and make sure tags have to be provided when assuming.\n"
   ]
  },
  {
   "cell_type": "code",
   "execution_count": 71,
   "id": "abcaf43b-cbfa-44c3-8f9f-4394223a95ed",
   "metadata": {},
   "outputs": [
    {
     "name": "stdout",
     "output_type": "stream",
     "text": [
      "The IAM role DemoTenantPipelineSMEInvokeRole already exists with ARN arn:aws:iam::171503325295:role/DemoTenantPipelineSMEInvokeRole\n"
     ]
    }
   ],
   "source": [
    "inovke_role_policy_document = {\n",
    "    \"Version\": \"2012-10-17\",\n",
    "    \"Statement\": [\n",
    "        {\n",
    "            \"Effect\": \"Allow\",\n",
    "            \"Principal\": {\n",
    "                \"AWS\": f\"arn:aws:sts::{account_id}:assumed-role/{sagemaker_exec_role}/SageMaker\"\n",
    "            },\n",
    "            \"Action\": [\"sts:AssumeRole\",\"sts:TagSession\"],\n",
    "            \"Condition\": {\n",
    "                \"StringLike\": {\n",
    "                    \"aws:RequestTag/TenantID\": \"tenant*\"\n",
    "                }\n",
    "            }\n",
    "        }\n",
    "    ]\n",
    "}\n",
    "\n",
    "\n",
    "try:\n",
    "    invoke_role_name = \"DemoTenantPipelineSMEInvokeRole\"\n",
    "    role=iam.create_role(\n",
    "        RoleName=invoke_role_name,\n",
    "        AssumeRolePolicyDocument=json.dumps(inovke_role_policy_document)\n",
    "    )\n",
    "\n",
    "    iam.attach_role_policy(\n",
    "        RoleName=invoke_role_name,\n",
    "        PolicyArn=f\"arn:aws:iam::{account_id}:policy/{invoke_policy_name}\"\n",
    "    )\n",
    "except iam.exceptions.EntityAlreadyExistsException:\n",
    "    role = iam.get_role(RoleName=invoke_role_name)\n",
    "\n",
    "    # Print the ARN of the existing IAM role\n",
    "    print(f\"The IAM role {invoke_role_name} already exists with ARN {role['Role']['Arn']}\")"
   ]
  },
  {
   "cell_type": "markdown",
   "id": "c519fea9-9a04-4ed5-bbb3-46686bf6263d",
   "metadata": {},
   "source": [
    "### Invoke tenant's model\n",
    "For a given `tenant_id`, if you provide its `TargetModel` name (which will start with tenant id) you will be able to invoke the endpoint  successsfully. But if you provide `TargetModel` name of a different tenant you will get `AccessDeniedException`."
   ]
  },
  {
   "cell_type": "markdown",
   "id": "365fac98-1f69-431b-bb62-2785d4ba9d2b",
   "metadata": {},
   "source": [
    "#### Create temp session for tenant1"
   ]
  },
  {
   "cell_type": "code",
   "execution_count": 72,
   "id": "2bd66b7c-c40a-4385-a74e-9175b145628b",
   "metadata": {
    "tags": []
   },
   "outputs": [
    {
     "name": "stdout",
     "output_type": "stream",
     "text": [
      "Waiting for 15 seconds for role creation to propagate ...\n",
      "Finished waiting!\n"
     ]
    }
   ],
   "source": [
    "import time \n",
    "wait_time=15\n",
    "print(\"Waiting for {} seconds for role creation to propagate ...\".format(wait_time))\n",
    "\n",
    "# Wait for the specified number of seconds\n",
    "time.sleep(wait_time)\n",
    "\n",
    "print(\"Finished waiting!\")"
   ]
  },
  {
   "cell_type": "code",
   "execution_count": 73,
   "id": "47f5cdb8-5931-43e8-9ced-5ca602d425e0",
   "metadata": {
    "tags": []
   },
   "outputs": [
    {
     "name": "stdout",
     "output_type": "stream",
     "text": [
      "Assumed role ARN: arn:aws:sts::171503325295:assumed-role/DemoTenantPipelineSMEInvokeRole/tenant1\n"
     ]
    }
   ],
   "source": [
    "from scripts import utils\n",
    "tenant_id=\"tenant1\"\n",
    "invoke_temp_session = utils.create_temp_session(role['Role']['Arn'], tenant_id)"
   ]
  },
  {
   "cell_type": "markdown",
   "id": "fa46f941-1bec-4c9e-b4e0-a4d5177878d8",
   "metadata": {},
   "source": [
    "#### Invoke tenant1's model"
   ]
  },
  {
   "cell_type": "code",
   "execution_count": 74,
   "id": "dddfdba7-3f8c-49cd-9854-2070211a5c25",
   "metadata": {
    "tags": []
   },
   "outputs": [
    {
     "name": "stdout",
     "output_type": "stream",
     "text": [
      "{'outputs': [\"Gasoline is a product like fruits. In food, price changes may or may not correlate with crops'growing seasons and may fall based on market conditions - which means that prices may decline with bad news and rise with good news for certain crops and produce... But when talking about gas it ’s something that genuinely changes every day and there s no real rhyme or reason to it beyond what markets deem healthy and what oil companies impose \"]}\n"
     ]
    }
   ],
   "source": [
    "import boto3\n",
    "import json\n",
    "import time\n",
    "from scripts import utils\n",
    "\n",
    "inputs = \"Prompt: Why do gas prices change daily but other goods remain almost constant ? I understand that fruits and similar items can change in price due to the growing seasons , but even then it ’s not that much of a change . Why does gas change every day ? Explain like I'm five.\"\n",
    "\n",
    "invoke_sagemaker_client = invoke_temp_session.client('sagemaker-runtime')\n",
    "\n",
    "prompts = [inputs]\n",
    "response_model = invoke_sagemaker_client.invoke_endpoint(\n",
    "            EndpointName=endpoint_name,\n",
    "            Body=json.dumps(\n",
    "            {\n",
    "                \"inputs\": prompts,\n",
    "                \n",
    "                \"parameters\": {\n",
    "                    \"min_length\":25,\n",
    "                    \"max_length\":100,\n",
    "                    \"temperature\":1.0,\n",
    "                    'do_sample': True,\n",
    "                    'no_repeat_ngram_size': 2\n",
    "                },\n",
    "            }\n",
    "            ),\n",
    "            ContentType=\"application/json\",\n",
    "        )\n",
    "\n",
    "output = json.loads(response_model['Body'].read().decode('utf8'))\n",
    "\n",
    "print(output)"
   ]
  },
  {
   "cell_type": "markdown",
   "id": "968af8d9-1943-4699-978d-e58c39b4ad79",
   "metadata": {},
   "source": [
    "#### Confirm tenant2 cant invoke tenant1's endpoint "
   ]
  },
  {
   "cell_type": "code",
   "execution_count": 68,
   "id": "17ba0aed-bce3-4d1c-a96b-70adff32026c",
   "metadata": {
    "tags": []
   },
   "outputs": [
    {
     "name": "stdout",
     "output_type": "stream",
     "text": [
      "Assumed role ARN: arn:aws:sts::171503325295:assumed-role/DemoTenantPipelineSMEInvokeRole/tenant2\n"
     ]
    }
   ],
   "source": [
    "from scripts import utils\n",
    "tenant_id=\"tenant2\"\n",
    "invoke_temp_session2 = utils.create_temp_session(role['Role']['Arn'], tenant_id)"
   ]
  },
  {
   "cell_type": "code",
   "execution_count": 69,
   "id": "ec9a6559-e33f-4f0a-9d82-565b618ef332",
   "metadata": {
    "tags": []
   },
   "outputs": [
    {
     "ename": "ClientError",
     "evalue": "An error occurred (AccessDeniedException) when calling the InvokeEndpoint operation: User: arn:aws:sts::171503325295:assumed-role/DemoTenantPipelineSMEInvokeRole/tenant2 is not authorized to perform: sagemaker:InvokeEndpoint on resource: arn:aws:sagemaker:us-east-1:171503325295:endpoint/flan-t5-tenant1-app12023-05-15-22-43-31 because no identity-based policy allows the sagemaker:InvokeEndpoint action",
     "output_type": "error",
     "traceback": [
      "\u001b[0;31m---------------------------------------------------------------------------\u001b[0m",
      "\u001b[0;31mClientError\u001b[0m                               Traceback (most recent call last)",
      "\u001b[0;32m<ipython-input-69-6332e34964f0>\u001b[0m in \u001b[0;36m<module>\u001b[0;34m\u001b[0m\n\u001b[1;32m     17\u001b[0m             }\n\u001b[1;32m     18\u001b[0m             ),\n\u001b[0;32m---> 19\u001b[0;31m             \u001b[0mContentType\u001b[0m\u001b[0;34m=\u001b[0m\u001b[0;34m\"application/json\"\u001b[0m\u001b[0;34m,\u001b[0m\u001b[0;34m\u001b[0m\u001b[0;34m\u001b[0m\u001b[0m\n\u001b[0m\u001b[1;32m     20\u001b[0m         )\n\u001b[1;32m     21\u001b[0m \u001b[0;34m\u001b[0m\u001b[0m\n",
      "\u001b[0;32m/opt/conda/lib/python3.7/site-packages/botocore/client.py\u001b[0m in \u001b[0;36m_api_call\u001b[0;34m(self, *args, **kwargs)\u001b[0m\n\u001b[1;32m    528\u001b[0m                 )\n\u001b[1;32m    529\u001b[0m             \u001b[0;31m# The \"self\" in this scope is referring to the BaseClient.\u001b[0m\u001b[0;34m\u001b[0m\u001b[0;34m\u001b[0m\u001b[0;34m\u001b[0m\u001b[0m\n\u001b[0;32m--> 530\u001b[0;31m             \u001b[0;32mreturn\u001b[0m \u001b[0mself\u001b[0m\u001b[0;34m.\u001b[0m\u001b[0m_make_api_call\u001b[0m\u001b[0;34m(\u001b[0m\u001b[0moperation_name\u001b[0m\u001b[0;34m,\u001b[0m \u001b[0mkwargs\u001b[0m\u001b[0;34m)\u001b[0m\u001b[0;34m\u001b[0m\u001b[0;34m\u001b[0m\u001b[0m\n\u001b[0m\u001b[1;32m    531\u001b[0m \u001b[0;34m\u001b[0m\u001b[0m\n\u001b[1;32m    532\u001b[0m         \u001b[0m_api_call\u001b[0m\u001b[0;34m.\u001b[0m\u001b[0m__name__\u001b[0m \u001b[0;34m=\u001b[0m \u001b[0mstr\u001b[0m\u001b[0;34m(\u001b[0m\u001b[0mpy_operation_name\u001b[0m\u001b[0;34m)\u001b[0m\u001b[0;34m\u001b[0m\u001b[0;34m\u001b[0m\u001b[0m\n",
      "\u001b[0;32m/opt/conda/lib/python3.7/site-packages/botocore/client.py\u001b[0m in \u001b[0;36m_make_api_call\u001b[0;34m(self, operation_name, api_params)\u001b[0m\n\u001b[1;32m    958\u001b[0m             \u001b[0mcontext\u001b[0m\u001b[0;34m=\u001b[0m\u001b[0mrequest_context\u001b[0m\u001b[0;34m,\u001b[0m\u001b[0;34m\u001b[0m\u001b[0;34m\u001b[0m\u001b[0m\n\u001b[1;32m    959\u001b[0m         )\n\u001b[0;32m--> 960\u001b[0;31m \u001b[0;34m\u001b[0m\u001b[0m\n\u001b[0m\u001b[1;32m    961\u001b[0m         \u001b[0;32mif\u001b[0m \u001b[0mhttp\u001b[0m\u001b[0;34m.\u001b[0m\u001b[0mstatus_code\u001b[0m \u001b[0;34m>=\u001b[0m \u001b[0;36m300\u001b[0m\u001b[0;34m:\u001b[0m\u001b[0;34m\u001b[0m\u001b[0;34m\u001b[0m\u001b[0m\n\u001b[1;32m    962\u001b[0m             \u001b[0merror_code\u001b[0m \u001b[0;34m=\u001b[0m \u001b[0mparsed_response\u001b[0m\u001b[0;34m.\u001b[0m\u001b[0mget\u001b[0m\u001b[0;34m(\u001b[0m\u001b[0;34m\"Error\"\u001b[0m\u001b[0;34m,\u001b[0m \u001b[0;34m{\u001b[0m\u001b[0;34m}\u001b[0m\u001b[0;34m)\u001b[0m\u001b[0;34m.\u001b[0m\u001b[0mget\u001b[0m\u001b[0;34m(\u001b[0m\u001b[0;34m\"Code\"\u001b[0m\u001b[0;34m)\u001b[0m\u001b[0;34m\u001b[0m\u001b[0;34m\u001b[0m\u001b[0m\n",
      "\u001b[0;31mClientError\u001b[0m: An error occurred (AccessDeniedException) when calling the InvokeEndpoint operation: User: arn:aws:sts::171503325295:assumed-role/DemoTenantPipelineSMEInvokeRole/tenant2 is not authorized to perform: sagemaker:InvokeEndpoint on resource: arn:aws:sagemaker:us-east-1:171503325295:endpoint/flan-t5-tenant1-app12023-05-15-22-43-31 because no identity-based policy allows the sagemaker:InvokeEndpoint action"
     ]
    }
   ],
   "source": [
    "invoke_sagemaker_client2 = invoke_temp_session2.client('sagemaker-runtime')\n",
    "\n",
    "prompts = [inputs]\n",
    "response_model = invoke_sagemaker_client2.invoke_endpoint(\n",
    "            EndpointName=endpoint_name,\n",
    "            Body=json.dumps(\n",
    "            {\n",
    "                \"inputs\": prompts,\n",
    "                \n",
    "                \"parameters\": {\n",
    "                    \"min_length\":25,\n",
    "                    \"max_length\":100,\n",
    "                    \"temperature\":1.0,\n",
    "                    'do_sample': True,\n",
    "                    'no_repeat_ngram_size': 2\n",
    "                },\n",
    "            }\n",
    "            ),\n",
    "            ContentType=\"application/json\",\n",
    "        )\n",
    "\n",
    "output = json.loads(response_model['Body'].read().decode('utf8'))\n",
    "\n",
    "print(output)"
   ]
  }
 ],
 "metadata": {
  "availableInstances": [
   {
    "_defaultOrder": 0,
    "_isFastLaunch": true,
    "category": "General purpose",
    "gpuNum": 0,
    "hideHardwareSpecs": false,
    "memoryGiB": 4,
    "name": "ml.t3.medium",
    "vcpuNum": 2
   },
   {
    "_defaultOrder": 1,
    "_isFastLaunch": false,
    "category": "General purpose",
    "gpuNum": 0,
    "hideHardwareSpecs": false,
    "memoryGiB": 8,
    "name": "ml.t3.large",
    "vcpuNum": 2
   },
   {
    "_defaultOrder": 2,
    "_isFastLaunch": false,
    "category": "General purpose",
    "gpuNum": 0,
    "hideHardwareSpecs": false,
    "memoryGiB": 16,
    "name": "ml.t3.xlarge",
    "vcpuNum": 4
   },
   {
    "_defaultOrder": 3,
    "_isFastLaunch": false,
    "category": "General purpose",
    "gpuNum": 0,
    "hideHardwareSpecs": false,
    "memoryGiB": 32,
    "name": "ml.t3.2xlarge",
    "vcpuNum": 8
   },
   {
    "_defaultOrder": 4,
    "_isFastLaunch": true,
    "category": "General purpose",
    "gpuNum": 0,
    "hideHardwareSpecs": false,
    "memoryGiB": 8,
    "name": "ml.m5.large",
    "vcpuNum": 2
   },
   {
    "_defaultOrder": 5,
    "_isFastLaunch": false,
    "category": "General purpose",
    "gpuNum": 0,
    "hideHardwareSpecs": false,
    "memoryGiB": 16,
    "name": "ml.m5.xlarge",
    "vcpuNum": 4
   },
   {
    "_defaultOrder": 6,
    "_isFastLaunch": false,
    "category": "General purpose",
    "gpuNum": 0,
    "hideHardwareSpecs": false,
    "memoryGiB": 32,
    "name": "ml.m5.2xlarge",
    "vcpuNum": 8
   },
   {
    "_defaultOrder": 7,
    "_isFastLaunch": false,
    "category": "General purpose",
    "gpuNum": 0,
    "hideHardwareSpecs": false,
    "memoryGiB": 64,
    "name": "ml.m5.4xlarge",
    "vcpuNum": 16
   },
   {
    "_defaultOrder": 8,
    "_isFastLaunch": false,
    "category": "General purpose",
    "gpuNum": 0,
    "hideHardwareSpecs": false,
    "memoryGiB": 128,
    "name": "ml.m5.8xlarge",
    "vcpuNum": 32
   },
   {
    "_defaultOrder": 9,
    "_isFastLaunch": false,
    "category": "General purpose",
    "gpuNum": 0,
    "hideHardwareSpecs": false,
    "memoryGiB": 192,
    "name": "ml.m5.12xlarge",
    "vcpuNum": 48
   },
   {
    "_defaultOrder": 10,
    "_isFastLaunch": false,
    "category": "General purpose",
    "gpuNum": 0,
    "hideHardwareSpecs": false,
    "memoryGiB": 256,
    "name": "ml.m5.16xlarge",
    "vcpuNum": 64
   },
   {
    "_defaultOrder": 11,
    "_isFastLaunch": false,
    "category": "General purpose",
    "gpuNum": 0,
    "hideHardwareSpecs": false,
    "memoryGiB": 384,
    "name": "ml.m5.24xlarge",
    "vcpuNum": 96
   },
   {
    "_defaultOrder": 12,
    "_isFastLaunch": false,
    "category": "General purpose",
    "gpuNum": 0,
    "hideHardwareSpecs": false,
    "memoryGiB": 8,
    "name": "ml.m5d.large",
    "vcpuNum": 2
   },
   {
    "_defaultOrder": 13,
    "_isFastLaunch": false,
    "category": "General purpose",
    "gpuNum": 0,
    "hideHardwareSpecs": false,
    "memoryGiB": 16,
    "name": "ml.m5d.xlarge",
    "vcpuNum": 4
   },
   {
    "_defaultOrder": 14,
    "_isFastLaunch": false,
    "category": "General purpose",
    "gpuNum": 0,
    "hideHardwareSpecs": false,
    "memoryGiB": 32,
    "name": "ml.m5d.2xlarge",
    "vcpuNum": 8
   },
   {
    "_defaultOrder": 15,
    "_isFastLaunch": false,
    "category": "General purpose",
    "gpuNum": 0,
    "hideHardwareSpecs": false,
    "memoryGiB": 64,
    "name": "ml.m5d.4xlarge",
    "vcpuNum": 16
   },
   {
    "_defaultOrder": 16,
    "_isFastLaunch": false,
    "category": "General purpose",
    "gpuNum": 0,
    "hideHardwareSpecs": false,
    "memoryGiB": 128,
    "name": "ml.m5d.8xlarge",
    "vcpuNum": 32
   },
   {
    "_defaultOrder": 17,
    "_isFastLaunch": false,
    "category": "General purpose",
    "gpuNum": 0,
    "hideHardwareSpecs": false,
    "memoryGiB": 192,
    "name": "ml.m5d.12xlarge",
    "vcpuNum": 48
   },
   {
    "_defaultOrder": 18,
    "_isFastLaunch": false,
    "category": "General purpose",
    "gpuNum": 0,
    "hideHardwareSpecs": false,
    "memoryGiB": 256,
    "name": "ml.m5d.16xlarge",
    "vcpuNum": 64
   },
   {
    "_defaultOrder": 19,
    "_isFastLaunch": false,
    "category": "General purpose",
    "gpuNum": 0,
    "hideHardwareSpecs": false,
    "memoryGiB": 384,
    "name": "ml.m5d.24xlarge",
    "vcpuNum": 96
   },
   {
    "_defaultOrder": 20,
    "_isFastLaunch": false,
    "category": "General purpose",
    "gpuNum": 0,
    "hideHardwareSpecs": true,
    "memoryGiB": 0,
    "name": "ml.geospatial.interactive",
    "supportedImageNames": [
     "sagemaker-geospatial-v1-0"
    ],
    "vcpuNum": 0
   },
   {
    "_defaultOrder": 21,
    "_isFastLaunch": true,
    "category": "Compute optimized",
    "gpuNum": 0,
    "hideHardwareSpecs": false,
    "memoryGiB": 4,
    "name": "ml.c5.large",
    "vcpuNum": 2
   },
   {
    "_defaultOrder": 22,
    "_isFastLaunch": false,
    "category": "Compute optimized",
    "gpuNum": 0,
    "hideHardwareSpecs": false,
    "memoryGiB": 8,
    "name": "ml.c5.xlarge",
    "vcpuNum": 4
   },
   {
    "_defaultOrder": 23,
    "_isFastLaunch": false,
    "category": "Compute optimized",
    "gpuNum": 0,
    "hideHardwareSpecs": false,
    "memoryGiB": 16,
    "name": "ml.c5.2xlarge",
    "vcpuNum": 8
   },
   {
    "_defaultOrder": 24,
    "_isFastLaunch": false,
    "category": "Compute optimized",
    "gpuNum": 0,
    "hideHardwareSpecs": false,
    "memoryGiB": 32,
    "name": "ml.c5.4xlarge",
    "vcpuNum": 16
   },
   {
    "_defaultOrder": 25,
    "_isFastLaunch": false,
    "category": "Compute optimized",
    "gpuNum": 0,
    "hideHardwareSpecs": false,
    "memoryGiB": 72,
    "name": "ml.c5.9xlarge",
    "vcpuNum": 36
   },
   {
    "_defaultOrder": 26,
    "_isFastLaunch": false,
    "category": "Compute optimized",
    "gpuNum": 0,
    "hideHardwareSpecs": false,
    "memoryGiB": 96,
    "name": "ml.c5.12xlarge",
    "vcpuNum": 48
   },
   {
    "_defaultOrder": 27,
    "_isFastLaunch": false,
    "category": "Compute optimized",
    "gpuNum": 0,
    "hideHardwareSpecs": false,
    "memoryGiB": 144,
    "name": "ml.c5.18xlarge",
    "vcpuNum": 72
   },
   {
    "_defaultOrder": 28,
    "_isFastLaunch": false,
    "category": "Compute optimized",
    "gpuNum": 0,
    "hideHardwareSpecs": false,
    "memoryGiB": 192,
    "name": "ml.c5.24xlarge",
    "vcpuNum": 96
   },
   {
    "_defaultOrder": 29,
    "_isFastLaunch": true,
    "category": "Accelerated computing",
    "gpuNum": 1,
    "hideHardwareSpecs": false,
    "memoryGiB": 16,
    "name": "ml.g4dn.xlarge",
    "vcpuNum": 4
   },
   {
    "_defaultOrder": 30,
    "_isFastLaunch": false,
    "category": "Accelerated computing",
    "gpuNum": 1,
    "hideHardwareSpecs": false,
    "memoryGiB": 32,
    "name": "ml.g4dn.2xlarge",
    "vcpuNum": 8
   },
   {
    "_defaultOrder": 31,
    "_isFastLaunch": false,
    "category": "Accelerated computing",
    "gpuNum": 1,
    "hideHardwareSpecs": false,
    "memoryGiB": 64,
    "name": "ml.g4dn.4xlarge",
    "vcpuNum": 16
   },
   {
    "_defaultOrder": 32,
    "_isFastLaunch": false,
    "category": "Accelerated computing",
    "gpuNum": 1,
    "hideHardwareSpecs": false,
    "memoryGiB": 128,
    "name": "ml.g4dn.8xlarge",
    "vcpuNum": 32
   },
   {
    "_defaultOrder": 33,
    "_isFastLaunch": false,
    "category": "Accelerated computing",
    "gpuNum": 4,
    "hideHardwareSpecs": false,
    "memoryGiB": 192,
    "name": "ml.g4dn.12xlarge",
    "vcpuNum": 48
   },
   {
    "_defaultOrder": 34,
    "_isFastLaunch": false,
    "category": "Accelerated computing",
    "gpuNum": 1,
    "hideHardwareSpecs": false,
    "memoryGiB": 256,
    "name": "ml.g4dn.16xlarge",
    "vcpuNum": 64
   },
   {
    "_defaultOrder": 35,
    "_isFastLaunch": false,
    "category": "Accelerated computing",
    "gpuNum": 1,
    "hideHardwareSpecs": false,
    "memoryGiB": 61,
    "name": "ml.p3.2xlarge",
    "vcpuNum": 8
   },
   {
    "_defaultOrder": 36,
    "_isFastLaunch": false,
    "category": "Accelerated computing",
    "gpuNum": 4,
    "hideHardwareSpecs": false,
    "memoryGiB": 244,
    "name": "ml.p3.8xlarge",
    "vcpuNum": 32
   },
   {
    "_defaultOrder": 37,
    "_isFastLaunch": false,
    "category": "Accelerated computing",
    "gpuNum": 8,
    "hideHardwareSpecs": false,
    "memoryGiB": 488,
    "name": "ml.p3.16xlarge",
    "vcpuNum": 64
   },
   {
    "_defaultOrder": 38,
    "_isFastLaunch": false,
    "category": "Accelerated computing",
    "gpuNum": 8,
    "hideHardwareSpecs": false,
    "memoryGiB": 768,
    "name": "ml.p3dn.24xlarge",
    "vcpuNum": 96
   },
   {
    "_defaultOrder": 39,
    "_isFastLaunch": false,
    "category": "Memory Optimized",
    "gpuNum": 0,
    "hideHardwareSpecs": false,
    "memoryGiB": 16,
    "name": "ml.r5.large",
    "vcpuNum": 2
   },
   {
    "_defaultOrder": 40,
    "_isFastLaunch": false,
    "category": "Memory Optimized",
    "gpuNum": 0,
    "hideHardwareSpecs": false,
    "memoryGiB": 32,
    "name": "ml.r5.xlarge",
    "vcpuNum": 4
   },
   {
    "_defaultOrder": 41,
    "_isFastLaunch": false,
    "category": "Memory Optimized",
    "gpuNum": 0,
    "hideHardwareSpecs": false,
    "memoryGiB": 64,
    "name": "ml.r5.2xlarge",
    "vcpuNum": 8
   },
   {
    "_defaultOrder": 42,
    "_isFastLaunch": false,
    "category": "Memory Optimized",
    "gpuNum": 0,
    "hideHardwareSpecs": false,
    "memoryGiB": 128,
    "name": "ml.r5.4xlarge",
    "vcpuNum": 16
   },
   {
    "_defaultOrder": 43,
    "_isFastLaunch": false,
    "category": "Memory Optimized",
    "gpuNum": 0,
    "hideHardwareSpecs": false,
    "memoryGiB": 256,
    "name": "ml.r5.8xlarge",
    "vcpuNum": 32
   },
   {
    "_defaultOrder": 44,
    "_isFastLaunch": false,
    "category": "Memory Optimized",
    "gpuNum": 0,
    "hideHardwareSpecs": false,
    "memoryGiB": 384,
    "name": "ml.r5.12xlarge",
    "vcpuNum": 48
   },
   {
    "_defaultOrder": 45,
    "_isFastLaunch": false,
    "category": "Memory Optimized",
    "gpuNum": 0,
    "hideHardwareSpecs": false,
    "memoryGiB": 512,
    "name": "ml.r5.16xlarge",
    "vcpuNum": 64
   },
   {
    "_defaultOrder": 46,
    "_isFastLaunch": false,
    "category": "Memory Optimized",
    "gpuNum": 0,
    "hideHardwareSpecs": false,
    "memoryGiB": 768,
    "name": "ml.r5.24xlarge",
    "vcpuNum": 96
   },
   {
    "_defaultOrder": 47,
    "_isFastLaunch": false,
    "category": "Accelerated computing",
    "gpuNum": 1,
    "hideHardwareSpecs": false,
    "memoryGiB": 16,
    "name": "ml.g5.xlarge",
    "vcpuNum": 4
   },
   {
    "_defaultOrder": 48,
    "_isFastLaunch": false,
    "category": "Accelerated computing",
    "gpuNum": 1,
    "hideHardwareSpecs": false,
    "memoryGiB": 32,
    "name": "ml.g5.2xlarge",
    "vcpuNum": 8
   },
   {
    "_defaultOrder": 49,
    "_isFastLaunch": false,
    "category": "Accelerated computing",
    "gpuNum": 1,
    "hideHardwareSpecs": false,
    "memoryGiB": 64,
    "name": "ml.g5.4xlarge",
    "vcpuNum": 16
   },
   {
    "_defaultOrder": 50,
    "_isFastLaunch": false,
    "category": "Accelerated computing",
    "gpuNum": 1,
    "hideHardwareSpecs": false,
    "memoryGiB": 128,
    "name": "ml.g5.8xlarge",
    "vcpuNum": 32
   },
   {
    "_defaultOrder": 51,
    "_isFastLaunch": false,
    "category": "Accelerated computing",
    "gpuNum": 1,
    "hideHardwareSpecs": false,
    "memoryGiB": 256,
    "name": "ml.g5.16xlarge",
    "vcpuNum": 64
   },
   {
    "_defaultOrder": 52,
    "_isFastLaunch": false,
    "category": "Accelerated computing",
    "gpuNum": 4,
    "hideHardwareSpecs": false,
    "memoryGiB": 192,
    "name": "ml.g5.12xlarge",
    "vcpuNum": 48
   },
   {
    "_defaultOrder": 53,
    "_isFastLaunch": false,
    "category": "Accelerated computing",
    "gpuNum": 4,
    "hideHardwareSpecs": false,
    "memoryGiB": 384,
    "name": "ml.g5.24xlarge",
    "vcpuNum": 96
   },
   {
    "_defaultOrder": 54,
    "_isFastLaunch": false,
    "category": "Accelerated computing",
    "gpuNum": 8,
    "hideHardwareSpecs": false,
    "memoryGiB": 768,
    "name": "ml.g5.48xlarge",
    "vcpuNum": 192
   }
  ],
  "instance_type": "ml.t3.medium",
  "kernelspec": {
   "display_name": "Python 3 (Data Science)",
   "language": "python",
   "name": "python3__SAGEMAKER_INTERNAL__arn:aws:sagemaker:us-east-1:081325390199:image/datascience-1.0"
  },
  "language_info": {
   "codemirror_mode": {
    "name": "ipython",
    "version": 3
   },
   "file_extension": ".py",
   "mimetype": "text/x-python",
   "name": "python",
   "nbconvert_exporter": "python",
   "pygments_lexer": "ipython3",
   "version": "3.7.10"
  }
 },
 "nbformat": 4,
 "nbformat_minor": 5
}
