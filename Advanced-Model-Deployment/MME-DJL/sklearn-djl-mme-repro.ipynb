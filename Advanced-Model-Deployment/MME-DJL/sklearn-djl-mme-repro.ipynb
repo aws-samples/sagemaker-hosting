{
 "cells": [
  {
   "cell_type": "markdown",
   "id": "4d7c1932-9c6b-406a-aa0b-8c4f6a065902",
   "metadata": {},
   "source": [
    "## DJL MME SKLearn Isolation Forest Repro"
   ]
  },
  {
   "cell_type": "code",
   "execution_count": null,
   "id": "39578dcf-0ea4-4806-b5ba-6ebc88b0993a",
   "metadata": {},
   "outputs": [],
   "source": [
    "import sagemaker\n",
    "from sagemaker import image_uris\n",
    "import boto3\n",
    "import os\n",
    "import time\n",
    "import json\n",
    "from pathlib import Path\n",
    "import boto3\n",
    "import json\n",
    "import os\n",
    "import joblib\n",
    "import pickle\n",
    "import tarfile\n",
    "import sagemaker\n",
    "from sagemaker.estimator import Estimator\n",
    "import time\n",
    "from time import gmtime, strftime\n",
    "import subprocess\n",
    "\n",
    "role = sagemaker.get_execution_role()  # execution role for the endpoint\n",
    "sess = sagemaker.session.Session()  # sagemaker session for interacting with different AWS APIs\n",
    "bucket = sess.default_bucket()  # bucket to house artifacts\n",
    "region = sess._region_name\n",
    "account_id = sess.account_id()\n",
    "s3_model_prefix = \"djl-sklearn-mme-test\" \n",
    "\n",
    "s3_client = boto3.client(\"s3\")\n",
    "sm_client = boto3.client(\"sagemaker\")\n",
    "smr_client = boto3.client(\"sagemaker-runtime\")"
   ]
  },
  {
   "cell_type": "code",
   "execution_count": null,
   "id": "6f404b6f-edbb-4091-9118-46cafbba94ae",
   "metadata": {},
   "outputs": [],
   "source": [
    "#Build tar file with model data + inference code, replace this cell with your model.joblib\n",
    "bashCommand = \"tar -cvpzf model.tar.gz model.joblib requirements.txt model.py serving.properties\"\n",
    "process = subprocess.Popen(bashCommand.split(), stdout=subprocess.PIPE)\n",
    "output, error = process.communicate()"
   ]
  },
  {
   "cell_type": "code",
   "execution_count": null,
   "id": "d1c5eef6-181c-489d-ac68-04c7b9033d2a",
   "metadata": {},
   "outputs": [],
   "source": [
    "%%time\n",
    "# we make a 1000 copies of the tarball as a dummy, you can replace this with your actual model.joblibs in tarball\n",
    "for i in range(1000):\n",
    "    with open(\"model.tar.gz\", \"rb\") as f:\n",
    "        s3_client.upload_fileobj(f, bucket, \"{}/sklearn-{}.tar.gz\".format(s3_model_prefix,i))"
   ]
  },
  {
   "cell_type": "code",
   "execution_count": null,
   "id": "7afc6b38-266b-40b2-a2fd-3e6c3dcc7ef1",
   "metadata": {},
   "outputs": [],
   "source": [
    "mme_artifacts = \"s3://{}/{}/\".format(bucket, s3_model_prefix)\n",
    "mme_artifacts"
   ]
  },
  {
   "cell_type": "code",
   "execution_count": null,
   "id": "c4a1c3d4-220a-4c07-bd70-51ce45203268",
   "metadata": {},
   "outputs": [],
   "source": [
    "#verify all 1000 tar balls are present\n",
    "!aws s3 ls {mme_artifacts}"
   ]
  },
  {
   "cell_type": "code",
   "execution_count": null,
   "id": "f81858fe-ca17-4acc-b4c1-316b1458a013",
   "metadata": {},
   "outputs": [],
   "source": [
    "# replace this with your ECR image URI\n",
    "inference_image_uri = '474422712127.dkr.ecr.us-east-1.amazonaws.com/djl-serving-cpu:latest'"
   ]
  },
  {
   "cell_type": "code",
   "execution_count": null,
   "id": "32b7ebb8-d504-4db7-bc2e-8000aa0a4a2c",
   "metadata": {},
   "outputs": [],
   "source": [
    "mme_model_name = \"sklearn-djl-mme\" + strftime(\"%Y-%m-%d-%H-%M-%S\", gmtime())\n",
    "print(\"Model name: \" + mme_model_name)\n",
    "\n",
    "create_model_response = sm_client.create_model(\n",
    "    ModelName=mme_model_name,\n",
    "    ExecutionRoleArn=role,\n",
    "    PrimaryContainer={\"Image\": inference_image_uri, \"Mode\": \"MultiModel\", \"ModelDataUrl\": mme_artifacts},\n",
    ")\n",
    "model_arn = create_model_response[\"ModelArn\"]\n",
    "\n",
    "print(f\"Created Model: {model_arn}\")"
   ]
  },
  {
   "cell_type": "code",
   "execution_count": null,
   "id": "d37694fb-53b5-48b6-b8be-8e5458916b66",
   "metadata": {},
   "outputs": [],
   "source": [
    "#Step 2: EPC Creation\n",
    "mme_epc_name = \"sklearn-djl-mme-epc\" + strftime(\"%Y-%m-%d-%H-%M-%S\", gmtime())\n",
    "endpoint_config_response = sm_client.create_endpoint_config(\n",
    "    EndpointConfigName=mme_epc_name,\n",
    "    ProductionVariants=[\n",
    "        {\n",
    "            \"VariantName\": \"sklearnvariant\",\n",
    "            \"ModelName\": mme_model_name,\n",
    "            \"InstanceType\": \"ml.c5d.18xlarge\",\n",
    "            \"InitialInstanceCount\": 20\n",
    "        },\n",
    "    ],\n",
    ")\n",
    "print(\"Endpoint Configuration Arn: \" + endpoint_config_response[\"EndpointConfigArn\"])"
   ]
  },
  {
   "cell_type": "code",
   "execution_count": null,
   "id": "ba1a2fe9-9499-41fc-8a23-30d5585aa0e4",
   "metadata": {},
   "outputs": [],
   "source": [
    "#Step 3: EP Creation\n",
    "mme_endpoint_name = \"sklearn-djl-ep-mme\" + strftime(\"%Y-%m-%d-%H-%M-%S\", gmtime())\n",
    "create_endpoint_response = sm_client.create_endpoint(\n",
    "    EndpointName=mme_endpoint_name,\n",
    "    EndpointConfigName=mme_epc_name,\n",
    ")\n",
    "print(\"Endpoint Arn: \" + create_endpoint_response[\"EndpointArn\"])"
   ]
  },
  {
   "cell_type": "code",
   "execution_count": null,
   "id": "d06f1419-5e8a-4977-afe0-3bb36b7197aa",
   "metadata": {},
   "outputs": [],
   "source": [
    "#Monitor creation\n",
    "describe_endpoint_response = sm_client.describe_endpoint(EndpointName=mme_endpoint_name)\n",
    "while describe_endpoint_response[\"EndpointStatus\"] == \"Creating\":\n",
    "    describe_endpoint_response = sm_client.describe_endpoint(EndpointName=mme_endpoint_name)\n",
    "    print(describe_endpoint_response[\"EndpointStatus\"])\n",
    "    time.sleep(15)\n",
    "print(describe_endpoint_response)"
   ]
  },
  {
   "cell_type": "code",
   "execution_count": null,
   "id": "e2727f8a-6a37-4bcd-9ab8-ad0d2152fe6f",
   "metadata": {
    "tags": []
   },
   "outputs": [],
   "source": [
    "import json\n",
    "content_type = \"application/json\"\n",
    "request_body = '[[0,0,0,0,0,0]]' #replace with your request body"
   ]
  },
  {
   "cell_type": "code",
   "execution_count": null,
   "id": "802afeb1-5d60-48f8-b9a4-eb087be15f92",
   "metadata": {},
   "outputs": [],
   "source": [
    "response = smr_client.invoke_endpoint(\n",
    "    EndpointName=mme_endpoint_name,\n",
    "    ContentType=content_type,\n",
    "    TargetModel = \"sklearn-902.tar.gz\",\n",
    "    Body=request_body)\n",
    "result = json.loads(response['Body'].read().decode())\n",
    "print(result)"
   ]
  },
  {
   "cell_type": "code",
   "execution_count": null,
   "id": "d27def3a-402d-401b-bb6f-8306ddd6a62b",
   "metadata": {},
   "outputs": [],
   "source": [
    "%%time\n",
    "\n",
    "for i in range(100):\n",
    "    response = smr_client.invoke_endpoint(\n",
    "    EndpointName=mme_endpoint_name,\n",
    "    ContentType=content_type,\n",
    "    TargetModel = \"sklearn-902.tar.gz\",\n",
    "    Body=request_body)"
   ]
  }
 ],
 "metadata": {
  "kernelspec": {
   "display_name": "conda_python3",
   "language": "python",
   "name": "conda_python3"
  },
  "language_info": {
   "codemirror_mode": {
    "name": "ipython",
    "version": 3
   },
   "file_extension": ".py",
   "mimetype": "text/x-python",
   "name": "python",
   "nbconvert_exporter": "python",
   "pygments_lexer": "ipython3",
   "version": "3.10.8"
  }
 },
 "nbformat": 4,
 "nbformat_minor": 5
}
